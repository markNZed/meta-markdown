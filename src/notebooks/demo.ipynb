{
 "cells": [
  {
   "cell_type": "markdown",
   "id": "86e5a916",
   "metadata": {},
   "source": [
    "# AI-Powered Markdown Manipulation\n",
    "\n",
    "This notebook demonstrates how to use AI features to manipulate Markdown files."
   ]
  },
  {
   "cell_type": "code",
   "execution_count": 2,
   "id": "dedaaf6f",
   "metadata": {
    "dotnet_interactive": {
     "language": "javascript"
    },
    "polyglot_notebook": {
     "kernelName": "javascript"
    }
   },
   "outputs": [
    {
     "name": "stdout",
     "output_type": "stream",
     "text": [
      "Attempting to read Markdown file at: /workspaces/ai-markdown-tool/md-files/example.md\n",
      "Original Content: ## New Heading\n",
      "\n",
      "This is new content. 1727451413597\n",
      "\n",
      "This is new content. 1727451954614\n",
      "\n",
      "Successfully wrote to Markdown file at: /workspaces/ai-markdown-tool/md-files/example.md\n",
      "Attempting to read Markdown file at: /workspaces/ai-markdown-tool/md-files/example.md\n",
      "Successfully wrote to Markdown file at: /workspaces/ai-markdown-tool/md-files/example.md\n",
      "Markdown file formatted successfully.\n"
     ]
    }
   ],
   "source": [
    "// Import required modules using ESM\n",
    "import { readMarkdown, writeMarkdown, formatMarkdown } from '../utils/fileIO.ts';\n",
    "//import { getSummaryPrompt } from '../prompts/summarizePrompt.js';\n",
    "//import { callOpenAI } from '../utils/ai.js';\n",
    "\n",
    "// Example usage\n",
    "const filePath = 'md-files/example.md';\n",
    "\n",
    "const main = async () => {\n",
    "  // Read the Markdown file\n",
    "  const content = await readMarkdown(filePath);\n",
    "  console.log('Original Content:', content);\n",
    "  // Write to the Markdown file\n",
    "  await writeMarkdown(filePath, content + `\\nThis is new content. ${Date.now()}`);\n",
    "  // Format the Markdown file\n",
    "  await formatMarkdown(filePath);\n",
    "};\n",
    "\n",
    "// Execute the main function\n",
    "await main().catch((error) => {\n",
    "  console.error(error);\n",
    "});\n"
   ]
  },
  {
   "cell_type": "code",
   "execution_count": 3,
   "id": "4b63505a",
   "metadata": {
    "dotnet_interactive": {
     "language": "javascript"
    },
    "polyglot_notebook": {
     "kernelName": "javascript"
    }
   },
   "outputs": [
    {
     "name": "stdout",
     "output_type": "stream",
     "text": [
      "Attempting to read Markdown file at: /workspaces/ai-markdown-tool/md-files/example.md\n",
      "Original Content: ## New Heading\n",
      "\n",
      "This is new content. 1727451413597\n",
      "\n",
      "This is new content. 1727451954614\n",
      "\n",
      "This is new content. 1727452108847\n",
      "\n"
     ]
    }
   ],
   "source": [
    "// Read the Markdown file\n",
    "const content = await readMarkdown('md-files/example.md');\n",
    "console.log('Original Content:', content);"
   ]
  },
  {
   "cell_type": "code",
   "execution_count": 4,
   "id": "eca0daac",
   "metadata": {
    "dotnet_interactive": {
     "language": "javascript"
    },
    "polyglot_notebook": {
     "kernelName": "javascript"
    }
   },
   "outputs": [
    {
     "name": "stdout",
     "output_type": "stream",
     "text": [
      "Summary: The Markdown content consists of a section titled \"New Heading\". Within this section, there are three statements, all starting with \"This is new content.\" Each statement is followed by a unique number - 1727451413597, 1727451954614, and 1727452108847 respectively.\n"
     ]
    }
   ],
   "source": [
    "// Generate a summary using AI\n",
    "import { callOpenAI } from '../utils/ai.ts';\n",
    "import { getSummaryPrompt } from '../prompts/getSummaryPrompt.js';\n",
    "const prompt = getSummaryPrompt(content);\n",
    "const summary = await callOpenAI(prompt);\n",
    "console.log('Summary:', summary);"
   ]
  },
  {
   "cell_type": "code",
   "execution_count": 5,
   "id": "446eadaa",
   "metadata": {
    "dotnet_interactive": {
     "language": "javascript"
    },
    "polyglot_notebook": {
     "kernelName": "javascript"
    }
   },
   "outputs": [
    {
     "name": "stdout",
     "output_type": "stream",
     "text": [
      "Successfully wrote to Markdown file at: /workspaces/ai-markdown-tool/md-files/example_summary.md\n",
      "Summary written to example_summary.md\n"
     ]
    }
   ],
   "source": [
    "// Write the summary to a new Markdown file\n",
    "await writeMarkdown('md-files/example_summary.md', `# Summary\\n\\n${summary}`);\n",
    "console.log('Summary written to example_summary.md');"
   ]
  },
  {
   "cell_type": "code",
   "execution_count": 3,
   "id": "7cd8b271",
   "metadata": {},
   "outputs": [
    {
     "name": "stdout",
     "output_type": "stream",
     "text": [
      "You entered: test\n"
     ]
    }
   ],
   "source": [
    "// Prompt the user for input and display the output in the notebook\n",
    "const value = prompt(\"Enter a value:\");\n",
    "console.log(`You entered: ${value}`);\n"
   ]
  }
 ],
 "metadata": {
  "kernelspec": {
   "display_name": "Deno",
   "language": "typescript",
   "name": "deno"
  },
  "language_info": {
   "codemirror_mode": "typescript",
   "file_extension": ".ts",
   "mimetype": "text/x.typescript",
   "name": "typescript",
   "nbconvert_exporter": "script",
   "pygments_lexer": "typescript",
   "version": "5.6.2"
  },
  "polyglot_notebook": {
   "kernelInfo": {
    "defaultKernelName": "csharp",
    "items": [
     {
      "aliases": [],
      "name": "csharp"
     }
    ]
   }
  }
 },
 "nbformat": 4,
 "nbformat_minor": 5
}
