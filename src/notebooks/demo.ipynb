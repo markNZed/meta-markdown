{
 "cells": [
  {
   "cell_type": "markdown",
   "id": "86e5a916",
   "metadata": {},
   "source": [
    "# AI-Powered Markdown Manipulation\n",
    "\n",
    "This notebook demonstrates how to use AI features to manipulate Markdown files."
   ]
  },
  {
   "cell_type": "code",
   "execution_count": null,
   "id": "19e67b18",
   "metadata": {},
   "outputs": [],
   "source": [
    "// This clears out the files from the cache but the kernel is also caching in memory\n",
    "// So need to restart the kernel to clear cache\n",
    "import { clearDenoGenCache } from '../utils/cacheBust.ts';\n",
    "await clearDenoGenCache();\n",
    "// Not sure how to restart the deno kernel from a notebook cell\n",
    "// From within VS Code we so not have access to the Jupyter object in the browser"
   ]
  },
  {
   "cell_type": "code",
   "execution_count": null,
   "id": "f211756b",
   "metadata": {},
   "outputs": [],
   "source": [
    "Deno.jupyter.html `<h1>Hello World</h1>`;\n"
   ]
  },
  {
   "cell_type": "code",
   "execution_count": null,
   "id": "dedaaf6f",
   "metadata": {
    "dotnet_interactive": {
     "language": "javascript"
    },
    "polyglot_notebook": {
     "kernelName": "javascript"
    }
   },
   "outputs": [],
   "source": [
    "// Import required modules using ESM\n",
    "// This is a hack for deno to bust the caching of local files - seems unreasonable\n",
    "const { readMarkdown, writeMarkdown, formatMarkdown } = await import(`../utils/fileIO.ts?cachebust=${new Date()}} `);\n",
    "\n",
    "// Example usage\n",
    "const filePath = 'example.md';\n",
    "\n",
    "await Deno.copyFile(\"../../markdown_example/example.template\", \"../../markdown_example/example.md\");\n",
    "\n",
    "const main = async () => {\n",
    "  // Read the Markdown file\n",
    "  const content = await readMarkdown(filePath);\n",
    "  console.log('Original Content:', content);\n",
    "  // Write to the Markdown file\n",
    "  await writeMarkdown(filePath, content + `\\nThis is new content. ${Date.now()}`);\n",
    "  // Format the Markdown file\n",
    "  await formatMarkdown(filePath);\n",
    "};\n",
    "\n",
    "// Execute the main function\n",
    "await main().catch((error) => {\n",
    "  console.error(error);\n",
    "});\n"
   ]
  },
  {
   "cell_type": "code",
   "execution_count": null,
   "id": "b5189522",
   "metadata": {},
   "outputs": [],
   "source": [
    "// File: ./src/test_logger.ts\n",
    "\n",
    "import logger from \"../utils/logger.ts\";\n",
    "\n",
    "logger.debug(\"This is a debug message\");\n",
    "logger.info(\"This is an info message\");\n",
    "logger.warning(\"This is a warning message\");\n",
    "logger.error(\"This is an error message\");\n",
    "logger.critical(\"This is a critical message\");\n"
   ]
  },
  {
   "cell_type": "code",
   "execution_count": null,
   "id": "4b63505a",
   "metadata": {
    "dotnet_interactive": {
     "language": "javascript"
    },
    "polyglot_notebook": {
     "kernelName": "javascript"
    }
   },
   "outputs": [],
   "source": [
    "// Read the Markdown file\n",
    "const content = await readMarkdown('example.md');\n",
    "console.log('Original Content:', content);"
   ]
  },
  {
   "cell_type": "code",
   "execution_count": null,
   "id": "eca0daac",
   "metadata": {
    "dotnet_interactive": {
     "language": "javascript"
    },
    "polyglot_notebook": {
     "kernelName": "javascript"
    }
   },
   "outputs": [],
   "source": [
    "// Generate a summary using AI\n",
    "import { callOpenAI } from '../utils/ai.ts';\n",
    "import { getSummaryPrompt } from '../prompts/getSummaryPrompt.js';\n",
    "const prompt = getSummaryPrompt(content);\n",
    "const summary = await callOpenAI(prompt);\n",
    "console.log('Summary:', summary);"
   ]
  },
  {
   "cell_type": "code",
   "execution_count": null,
   "id": "446eadaa",
   "metadata": {
    "dotnet_interactive": {
     "language": "javascript"
    },
    "polyglot_notebook": {
     "kernelName": "javascript"
    }
   },
   "outputs": [],
   "source": [
    "// Write the summary to a new Markdown file\n",
    "await writeMarkdown('example_summary.md', `# Summary\\n\\n${summary}`);\n",
    "console.log('Summary written to example_summary.md');"
   ]
  }
 ],
 "metadata": {
  "kernelspec": {
   "display_name": "Deno",
   "language": "typescript",
   "name": "deno"
  },
  "language_info": {
   "codemirror_mode": "typescript",
   "file_extension": ".ts",
   "mimetype": "text/x.typescript",
   "name": "typescript",
   "nbconvert_exporter": "script",
   "pygments_lexer": "typescript",
   "version": "5.6.2"
  },
  "polyglot_notebook": {
   "kernelInfo": {
    "defaultKernelName": "csharp",
    "items": [
     {
      "aliases": [],
      "name": "csharp"
     }
    ]
   }
  }
 },
 "nbformat": 4,
 "nbformat_minor": 5
}
