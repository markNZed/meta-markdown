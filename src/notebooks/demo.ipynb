{
 "cells": [
  {
   "cell_type": "markdown",
   "id": "86e5a916",
   "metadata": {},
   "source": [
    "# AI-Powered Markdown Manipulation\n",
    "\n",
    "This notebook demonstrates how to use AI features to manipulate Markdown files."
   ]
  },
  {
   "cell_type": "code",
   "execution_count": 1,
   "id": "19e67b18",
   "metadata": {},
   "outputs": [],
   "source": [
    "// Not sure how to restart the deno kernel from a notebook cell\n",
    "// From within VS Code we so not have access to the Jupyter object in the browser\n",
    "const load = (path: string) => import(\n",
    "    path + (Deno.env.get(\"PROD\") ? \"\" : `?${Math.random()}`)\n",
    ")"
   ]
  },
  {
   "cell_type": "code",
   "execution_count": 2,
   "id": "f211756b",
   "metadata": {},
   "outputs": [
    {
     "data": {
      "text/html": [
       "<h1>Hello World</h1>"
      ]
     },
     "execution_count": 2,
     "metadata": {},
     "output_type": "execute_result"
    }
   ],
   "source": [
    "Deno.jupyter.html `<h1>Hello World</h1>`;"
   ]
  },
  {
   "cell_type": "code",
   "execution_count": 3,
   "id": "dedaaf6f",
   "metadata": {
    "dotnet_interactive": {
     "language": "javascript"
    },
    "polyglot_notebook": {
     "kernelName": "javascript"
    }
   },
   "outputs": [
    {
     "name": "stdout",
     "output_type": "stream",
     "text": [
      "Attempting to read Markdown file at: /workspace/markdown_example/example.md\n",
      "Original Content: ## New Heading\n",
      "\n",
      "Successfully wrote to Markdown file at: /workspace/markdown_example/example.md\n",
      "Attempting to read Markdown file at: /workspace/markdown_example/example.md\n",
      "Successfully wrote to Markdown file at: /workspace/markdown_example/example.md\n",
      "Markdown file formatted successfully.\n"
     ]
    }
   ],
   "source": [
    "// Import required modules using ESM\n",
    "// This is a hack for deno to bust the caching of local files - seems unreasonable\n",
    "const { readMarkdown, writeMarkdown, formatMarkdown } = await import(`../utils/markdown/fileIO.ts?cachebust=${new Date()}} `);\n",
    "\n",
    "// Example usage\n",
    "const filePath = 'example.md';\n",
    "\n",
    "await Deno.copyFile(\"../../markdown_example/example.template\", \"../../markdown_example/example.md\");\n",
    "\n",
    "const main = async () => {\n",
    "  // Read the Markdown file\n",
    "  const content = await readMarkdown(filePath);\n",
    "  console.log('Original Content:', content);\n",
    "  // Write to the Markdown file\n",
    "  await writeMarkdown(filePath, content + `\\nThis is new content. ${Date.now()}`);\n",
    "  // Format the Markdown file\n",
    "  await formatMarkdown(filePath);\n",
    "};\n",
    "\n",
    "// Execute the main function\n",
    "await main().catch((error) => {\n",
    "  console.error(error);\n",
    "});\n"
   ]
  },
  {
   "cell_type": "code",
   "execution_count": 4,
   "id": "b5189522",
   "metadata": {},
   "outputs": [
    {
     "name": "stdout",
     "output_type": "stream",
     "text": [
      "logFilePath /workspace/src/notebooks/$deno$jupyter.log\n",
      "Logger initialized. Log file path: /workspace/src/notebooks/$deno$jupyter.log\n",
      "Logger setup completed successfully.\n"
     ]
    },
    {
     "name": "stdout",
     "output_type": "stream",
     "text": [
      "\u001b[34m14:20:13 INFO   This is an info message (at <anonymous>:5:8)\u001b[39m\n",
      "\u001b[33m14:20:13 WARNING  This is a warning message (at <anonymous>:6:8)\u001b[39m\n",
      "\u001b[31m14:20:13 ERROR  This is an error message (at <anonymous>:7:8)\u001b[39m\n",
      "\u001b[1m\u001b[31m14:20:13 CRITICAL  This is a critical message (at <anonymous>:8:8)\u001b[39m\u001b[22m\n"
     ]
    }
   ],
   "source": [
    "// File: ./src/test_logger.ts\n",
    "\n",
    "//import logger from \"../utils/logger.ts\";\n",
    "var {default: logger} = await load(\"../utils/logger.ts\");\n",
    "\n",
    "logger.debug(\"This is a debug message\"); // only goes to .log \n",
    "logger.info(\"This is an info message\");\n",
    "logger.warning(\"This is a warning message\");\n",
    "logger.error(\"This is an error message\");\n",
    "logger.critical(\"This is a critical message\");\n",
    "\n"
   ]
  },
  {
   "cell_type": "code",
   "execution_count": 5,
   "id": "4b63505a",
   "metadata": {
    "dotnet_interactive": {
     "language": "javascript"
    },
    "polyglot_notebook": {
     "kernelName": "javascript"
    }
   },
   "outputs": [
    {
     "name": "stdout",
     "output_type": "stream",
     "text": [
      "Attempting to read Markdown file at: /workspace/markdown_example/example.md\n",
      "Original Content: ## New Heading\n",
      "\n",
      "This is new content. 1727965213480\n",
      "\n",
      "\u001b[34m14:20:13 INFO   This is a second info message (at <anonymous>:5:8)\u001b[39m\n"
     ]
    }
   ],
   "source": [
    "// Read the Markdown file\n",
    "const content = await readMarkdown('example.md');\n",
    "console.log('Original Content:', content);\n",
    "logger.debug(\"This is a second debug message\"); \n",
    "logger.info(\"This is a second info message\"); "
   ]
  },
  {
   "cell_type": "code",
   "execution_count": 6,
   "id": "eca0daac",
   "metadata": {
    "dotnet_interactive": {
     "language": "javascript"
    },
    "polyglot_notebook": {
     "kernelName": "javascript"
    }
   },
   "outputs": [
    {
     "name": "stdout",
     "output_type": "stream",
     "text": [
      "\u001b[34m14:20:13 INFO  system Cache directory is ready at /workspace/llm-cache (at file:///workspace/src/utils/llm/llm.ts:16:8)\u001b[39m\n",
      "\u001b[34m14:20:13 INFO  undefined Cache miss for prompt. Calling OpenAI API. (callOpenAI (file:///workspace/src/utils/llm/llm.ts:88:14))\u001b[39m\n"
     ]
    },
    {
     "ename": "TypeError",
     "evalue": "Cannot read properties of undefined (reading 'length')",
     "output_type": "error",
     "traceback": [
      "Stack trace:",
      "TypeError: Cannot read properties of undefined (reading 'length')",
      "    at truncate (file:///workspace/src/utils/logger.ts?0.8395522886206999:105:16)",
      "    at file:///workspace/src/utils/logger.ts?0.8395522886206999:258:58",
      "    at Array.map (<anonymous>)",
      "    at FileHandler.jsonFileFormatter [as formatter] (file:///workspace/src/utils/logger.ts?0.8395522886206999:258:30)",
      "    at FileHandler.format (https://deno.land/std@0.201.0/log/handlers.ts:38:19)",
      "    at FileHandler.handle (https://deno.land/std@0.201.0/log/handlers.ts:32:22)",
      "    at FileHandler.handle (https://deno.land/std@0.201.0/log/handlers.ts:155:11)",
      "    at https://deno.land/std@0.201.0/log/logger.ts:120:15",
      "    at Array.forEach (<anonymous>)",
      "    at Logger.#_log (https://deno.land/std@0.201.0/log/logger.ts:119:20)"
     ]
    }
   ],
   "source": [
    "// Generate a summary using AI\n",
    "import { callOpenAI } from '@/utils/llm/llm.ts';\n",
    "import { getSummaryPrompt } from '../prompts/getSummaryPrompt.js';\n",
    "const prompt = getSummaryPrompt(content);\n",
    "const summary = await callOpenAI({prompt});\n",
    "console.log('Summary:', summary);"
   ]
  },
  {
   "cell_type": "code",
   "execution_count": null,
   "id": "446eadaa",
   "metadata": {
    "dotnet_interactive": {
     "language": "javascript"
    },
    "polyglot_notebook": {
     "kernelName": "javascript"
    }
   },
   "outputs": [],
   "source": [
    "// Write the summary to a new Markdown file\n",
    "await writeMarkdown('example_summary.md', `# Summary\\n\\n${summary}`);\n",
    "console.log('Summary written to example_summary.md');"
   ]
  }
 ],
 "metadata": {
  "kernelspec": {
   "display_name": "Deno",
   "language": "typescript",
   "name": "deno"
  },
  "language_info": {
   "codemirror_mode": "typescript",
   "file_extension": ".ts",
   "mimetype": "text/x.typescript",
   "name": "typescript",
   "nbconvert_exporter": "script",
   "pygments_lexer": "typescript",
   "version": "5.6.2"
  },
  "polyglot_notebook": {
   "kernelInfo": {
    "defaultKernelName": "csharp",
    "items": [
     {
      "aliases": [],
      "name": "csharp"
     }
    ]
   }
  }
 },
 "nbformat": 4,
 "nbformat_minor": 5
}
