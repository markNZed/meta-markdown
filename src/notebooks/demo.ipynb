{
 "cells": [
  {
   "cell_type": "markdown",
   "id": "86e5a916",
   "metadata": {},
   "source": [
    "# AI-Powered Markdown Manipulation\n",
    "\n",
    "This notebook demonstrates how to use AI features to manipulate Markdown files."
   ]
  },
  {
   "cell_type": "code",
   "execution_count": 25,
   "id": "19e67b18",
   "metadata": {},
   "outputs": [],
   "source": [
    "// Not sure how to restart the deno kernel from a notebook cell\n",
    "// From within VS Code we so not have access to the Jupyter object in the browser\n",
    "const load = (path) => import(\n",
    "    path + (Deno.env.get(\"PROD\") ? \"\" : `?${Math.random()}`)\n",
    ")"
   ]
  },
  {
   "cell_type": "code",
   "execution_count": 26,
   "id": "f211756b",
   "metadata": {},
   "outputs": [
    {
     "data": {
      "text/html": [
       "<h1>Hello World</h1>"
      ]
     },
     "execution_count": 26,
     "metadata": {},
     "output_type": "execute_result"
    }
   ],
   "source": [
    "Deno.jupyter.html `<h1>Hello World</h1>`;"
   ]
  },
  {
   "cell_type": "code",
   "execution_count": 27,
   "id": "dedaaf6f",
   "metadata": {
    "dotnet_interactive": {
     "language": "javascript"
    },
    "polyglot_notebook": {
     "kernelName": "javascript"
    }
   },
   "outputs": [
    {
     "name": "stdout",
     "output_type": "stream",
     "text": [
      "Attempting to read Markdown file at: /workspace/markdown_example/example.md\n",
      "Original Content: ## New Heading\n",
      "\n",
      "Successfully wrote to Markdown file at: /workspace/markdown_example/example.md\n",
      "Attempting to read Markdown file at: /workspace/markdown_example/example.md\n",
      "Successfully wrote to Markdown file at: /workspace/markdown_example/example.md\n",
      "Markdown file formatted successfully.\n"
     ]
    }
   ],
   "source": [
    "// Import required modules using ESM\n",
    "// This is a hack for deno to bust the caching of local files - seems unreasonable\n",
    "const { readMarkdown, writeMarkdown, formatMarkdown } = await import(`../utils/markdown/fileIO.ts?cachebust=${new Date()}} `);\n",
    "\n",
    "// Example usage\n",
    "const filePath = 'example.md';\n",
    "\n",
    "await Deno.copyFile(\"../../markdown_example/example.template\", \"../../markdown_example/example.md\");\n",
    "\n",
    "const main = async () => {\n",
    "  // Read the Markdown file\n",
    "  const content = await readMarkdown(filePath);\n",
    "  console.log('Original Content:', content);\n",
    "  // Write to the Markdown file\n",
    "  await writeMarkdown(filePath, content + `\\nThis is new content. ${Date.now()}`);\n",
    "  // Format the Markdown file\n",
    "  await formatMarkdown(filePath);\n",
    "};\n",
    "\n",
    "// Execute the main function\n",
    "await main().catch((error) => {\n",
    "  console.error(error);\n",
    "});\n"
   ]
  },
  {
   "cell_type": "code",
   "execution_count": 28,
   "id": "b5189522",
   "metadata": {},
   "outputs": [
    {
     "name": "stdout",
     "output_type": "stream",
     "text": [
      "\u001b[34m14:06:33 INFO   This is an info message (at <anonymous>:5:8)\u001b[39m\n",
      "\u001b[33m14:06:33 WARNING  This is a warning message (at <anonymous>:6:8)\u001b[39m\n",
      "\u001b[31m14:06:33 ERROR  This is an error message (at <anonymous>:7:8)\u001b[39m\n",
      "\u001b[1m\u001b[31m14:06:33 CRITICAL  This is a critical message (at <anonymous>:8:8)\u001b[39m\u001b[22m\n"
     ]
    }
   ],
   "source": [
    "// File: ./src/test_logger.ts\n",
    "\n",
    "//import logger from \"../utils/logger.ts\";\n",
    "var {default: logger} = await load(\"../utils/logger.ts\");\n",
    "\n",
    "logger.debug(\"This is a debug message\"); // only goes to .log \n",
    "logger.info(\"This is an info message\");\n",
    "logger.warning(\"This is a warning message\");\n",
    "logger.error(\"This is an error message\");\n",
    "logger.critical(\"This is a critical message\");\n",
    "\n"
   ]
  },
  {
   "cell_type": "code",
   "execution_count": 32,
   "id": "4b63505a",
   "metadata": {
    "dotnet_interactive": {
     "language": "javascript"
    },
    "polyglot_notebook": {
     "kernelName": "javascript"
    }
   },
   "outputs": [
    {
     "name": "stdout",
     "output_type": "stream",
     "text": [
      "Attempting to read Markdown file at: /workspace/markdown_example/example.md\n",
      "Original Content: ## New Heading\n",
      "\n",
      "This is new content. 1727964393838\n",
      "\n"
     ]
    }
   ],
   "source": [
    "// Read the Markdown file\n",
    "const content = await readMarkdown('example.md');\n",
    "console.log('Original Content:', content);\n",
    "logger.debug(\"This is a second debug message\"); "
   ]
  },
  {
   "cell_type": "code",
   "execution_count": 30,
   "id": "eca0daac",
   "metadata": {
    "dotnet_interactive": {
     "language": "javascript"
    },
    "polyglot_notebook": {
     "kernelName": "javascript"
    }
   },
   "outputs": [
    {
     "name": "stdout",
     "output_type": "stream",
     "text": [
      "\u001b[34mINFO Cache miss for prompt. Calling OpenAI API.\u001b[39m\n",
      "\u001b[34mINFO Response cached at /workspace/llm-cache/120344587b814702d703e8fa87b4f4a665f634ae1f161ba33663ba1f671eff6f.json.\u001b[39m\n",
      "Summary: The content introduces a new section titled \"New Heading\" and includes a brief statement about new content, along with a numeric identifier (1727964393838).\n"
     ]
    }
   ],
   "source": [
    "// Generate a summary using AI\n",
    "import { callOpenAI } from '../utils/ai.ts';\n",
    "import { getSummaryPrompt } from '../prompts/getSummaryPrompt.js';\n",
    "const prompt = getSummaryPrompt(content);\n",
    "const summary = await callOpenAI(prompt);\n",
    "console.log('Summary:', summary);"
   ]
  },
  {
   "cell_type": "code",
   "execution_count": 31,
   "id": "446eadaa",
   "metadata": {
    "dotnet_interactive": {
     "language": "javascript"
    },
    "polyglot_notebook": {
     "kernelName": "javascript"
    }
   },
   "outputs": [
    {
     "name": "stdout",
     "output_type": "stream",
     "text": [
      "Successfully wrote to Markdown file at: /workspace/markdown_example/example_summary.md\n",
      "Summary written to example_summary.md\n"
     ]
    }
   ],
   "source": [
    "// Write the summary to a new Markdown file\n",
    "await writeMarkdown('example_summary.md', `# Summary\\n\\n${summary}`);\n",
    "console.log('Summary written to example_summary.md');"
   ]
  }
 ],
 "metadata": {
  "kernelspec": {
   "display_name": "Deno",
   "language": "typescript",
   "name": "deno"
  },
  "language_info": {
   "codemirror_mode": "typescript",
   "file_extension": ".ts",
   "mimetype": "text/x.typescript",
   "name": "typescript",
   "nbconvert_exporter": "script",
   "pygments_lexer": "typescript",
   "version": "5.6.2"
  },
  "polyglot_notebook": {
   "kernelInfo": {
    "defaultKernelName": "csharp",
    "items": [
     {
      "aliases": [],
      "name": "csharp"
     }
    ]
   }
  }
 },
 "nbformat": 4,
 "nbformat_minor": 5
}
