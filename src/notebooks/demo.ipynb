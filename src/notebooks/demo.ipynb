{
 "cells": [
  {
   "cell_type": "markdown",
   "id": "86e5a916",
   "metadata": {},
   "source": [
    "# AI-Powered Markdown Manipulation\n",
    "\n",
    "This notebook demonstrates how to use AI features to manipulate Markdown files."
   ]
  },
  {
   "cell_type": "code",
   "execution_count": 6,
   "id": "19e67b18",
   "metadata": {},
   "outputs": [
    {
     "name": "stdout",
     "output_type": "stream",
     "text": [
      "Deno 'gen' cache cleared: /deno-dir/gen/file\n"
     ]
    }
   ],
   "source": [
    "// This clears out the files from the cache but the kernel is also caching in memory\n",
    "// So need to restart the kernel to clear cache\n",
    "import { clearDenoGenCache } from '../utils/cacheBust.ts';\n",
    "await clearDenoGenCache();\n",
    "// Not sure how to restart the deno kernel from a notebook cell\n",
    "// From within VS Code we so not have access to the Jupyter object in the browser"
   ]
  },
  {
   "cell_type": "code",
   "execution_count": 7,
   "id": "f211756b",
   "metadata": {},
   "outputs": [
    {
     "data": {
      "text/html": [
       "<h1>Hello World</h1>"
      ]
     },
     "execution_count": 7,
     "metadata": {},
     "output_type": "execute_result"
    }
   ],
   "source": [
    "Deno.jupyter.html `<h1>Hello World</h1>`;\n"
   ]
  },
  {
   "cell_type": "code",
   "execution_count": null,
   "id": "14dce32f",
   "metadata": {},
   "outputs": [],
   "source": [
    "const audioPlayerHTML = `\n",
    "  <audio controls>\n",
    "    <source src=\"data:audio/mp3;base64,${base64Mp3}\" type=\"audio/mp3\">\n",
    "    Your browser does not support the audio element.\n",
    "  </audio>\n",
    "`;"
   ]
  },
  {
   "cell_type": "code",
   "execution_count": 8,
   "id": "dedaaf6f",
   "metadata": {
    "dotnet_interactive": {
     "language": "javascript"
    },
    "polyglot_notebook": {
     "kernelName": "javascript"
    }
   },
   "outputs": [
    {
     "name": "stdout",
     "output_type": "stream",
     "text": [
      "Attempting to read Markdown file at: /workspace/markdown_example/example.md\n",
      "Original Content: ## New Heading\n",
      "\n",
      "Successfully wrote to Markdown file at: /workspace/markdown_example/example.md\n",
      "Attempting to read Markdown file at: /workspace/markdown_example/example.md\n",
      "Successfully wrote to Markdown file at: /workspace/markdown_example/example.md\n",
      "Markdown file formatted successfully.\n"
     ]
    }
   ],
   "source": [
    "// Import required modules using ESM\n",
    "// This is a hack for deno to bust the caching of local files - seems unreasonable\n",
    "const fileIO = await import(`../utils/fileIO.ts?cacheBust=${Date.now()}`);\n",
    "const { readMarkdown, writeMarkdown, formatMarkdown } = fileIO;\n",
    "\n",
    "// Example usage\n",
    "const filePath = 'example.md';\n",
    "\n",
    "await Deno.copyFile(\"../../markdown_example/example.template\", \"../../markdown_example/example.md\");\n",
    "\n",
    "const main = async () => {\n",
    "  // Read the Markdown file\n",
    "  const content = await readMarkdown(filePath);\n",
    "  console.log('Original Content:', content);\n",
    "  // Write to the Markdown file\n",
    "  await writeMarkdown(filePath, content + `\\nThis is new content. ${Date.now()}`);\n",
    "  // Format the Markdown file\n",
    "  await formatMarkdown(filePath);\n",
    "};\n",
    "\n",
    "// Execute the main function\n",
    "await main().catch((error) => {\n",
    "  console.error(error);\n",
    "});\n"
   ]
  },
  {
   "cell_type": "code",
   "execution_count": 9,
   "id": "b5189522",
   "metadata": {},
   "outputs": [
    {
     "name": "stdout",
     "output_type": "stream",
     "text": [
      "DEBUG This is a debug message\n",
      "INFO This is an info message\n",
      "WARNING This is a warning message\n",
      "ERROR This is an error message\n",
      "CRITICAL This is a critical message\n"
     ]
    },
    {
     "data": {
      "text/plain": [
       "\u001b[32m\"This is a critical message\"\u001b[39m"
      ]
     },
     "execution_count": 9,
     "metadata": {},
     "output_type": "execute_result"
    }
   ],
   "source": [
    "// File: ./src/test_logger.ts\n",
    "\n",
    "import logger from \"../utils/logger.ts\";\n",
    "\n",
    "logger.debug(\"This is a debug message\");\n",
    "logger.info(\"This is an info message\");\n",
    "logger.warning(\"This is a warning message\");\n",
    "logger.error(\"This is an error message\");\n",
    "logger.critical(\"This is a critical message\");\n"
   ]
  },
  {
   "cell_type": "code",
   "execution_count": 10,
   "id": "4b63505a",
   "metadata": {
    "dotnet_interactive": {
     "language": "javascript"
    },
    "polyglot_notebook": {
     "kernelName": "javascript"
    }
   },
   "outputs": [
    {
     "name": "stdout",
     "output_type": "stream",
     "text": [
      "Attempting to read Markdown file at: /workspace/markdown_example/example.md\n",
      "Original Content: ## New Heading\n",
      "\n",
      "This is new content. 1727685315836\n",
      "\n"
     ]
    }
   ],
   "source": [
    "// Read the Markdown file\n",
    "const content = await readMarkdown('example.md');\n",
    "console.log('Original Content:', content);"
   ]
  },
  {
   "cell_type": "code",
   "execution_count": 12,
   "id": "eca0daac",
   "metadata": {
    "dotnet_interactive": {
     "language": "javascript"
    },
    "polyglot_notebook": {
     "kernelName": "javascript"
    }
   },
   "outputs": [
    {
     "name": "stdout",
     "output_type": "stream",
     "text": [
      "INFO Cache miss for prompt. Calling OpenAI API. - requestId: undefined\n",
      "INFO Response cached at /workspace/llm-cache/cd3e25104ac07a626854ccb54f3c89a6807349ded11ad8c18868716b5a3399b8.json. - requestId: undefined\n",
      "Summary: The content introduces a new section titled \"New Heading\" and includes a brief statement that it contains new information, followed by a number: 1727685315836.\n"
     ]
    }
   ],
   "source": [
    "// Generate a summary using AI\n",
    "import { callOpenAI } from '../utils/ai.ts';\n",
    "import { getSummaryPrompt } from '../prompts/getSummaryPrompt.js';\n",
    "const prompt = getSummaryPrompt(content);\n",
    "const summary = await callOpenAI(prompt);\n",
    "console.log('Summary:', summary);"
   ]
  },
  {
   "cell_type": "code",
   "execution_count": 13,
   "id": "446eadaa",
   "metadata": {
    "dotnet_interactive": {
     "language": "javascript"
    },
    "polyglot_notebook": {
     "kernelName": "javascript"
    }
   },
   "outputs": [
    {
     "name": "stdout",
     "output_type": "stream",
     "text": [
      "Successfully wrote to Markdown file at: /workspace/markdown_example/markdown/example_summary.md\n",
      "Summary written to example_summary.md\n"
     ]
    }
   ],
   "source": [
    "// Write the summary to a new Markdown file\n",
    "await writeMarkdown('example_summary.md', `# Summary\\n\\n${summary}`);\n",
    "console.log('Summary written to example_summary.md');"
   ]
  }
 ],
 "metadata": {
  "kernelspec": {
   "display_name": "Deno",
   "language": "typescript",
   "name": "deno"
  },
  "language_info": {
   "codemirror_mode": "typescript",
   "file_extension": ".ts",
   "mimetype": "text/x.typescript",
   "name": "typescript",
   "nbconvert_exporter": "script",
   "pygments_lexer": "typescript",
   "version": "5.6.2"
  },
  "polyglot_notebook": {
   "kernelInfo": {
    "defaultKernelName": "csharp",
    "items": [
     {
      "aliases": [],
      "name": "csharp"
     }
    ]
   }
  }
 },
 "nbformat": 4,
 "nbformat_minor": 5
}
