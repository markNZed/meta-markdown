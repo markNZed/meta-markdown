{
 "cells": [
  {
   "cell_type": "markdown",
   "metadata": {},
   "source": [
    "# Podcast\n",
    "\n",
    "A notebook to convert an essay into a podcast."
   ]
  },
  {
   "cell_type": "code",
   "execution_count": 1,
   "metadata": {},
   "outputs": [],
   "source": [
    "import { config } from '@/config.ts';\n",
    "const file = '/workspace/markdown_example/HumanistProcessPhilosophy.md';\n",
    "import { basename, extname } from \"https://deno.land/std/path/mod.ts\";\n",
    "// Strip the extension using extname\n",
    "const fileNameWithoutExt = basename(file, extname(file));"
   ]
  },
  {
   "cell_type": "code",
   "execution_count": 2,
   "metadata": {},
   "outputs": [
    {
     "name": "stdout",
     "output_type": "stream",
     "text": [
      "Attempting to read Markdown file at: /workspace/markdown_example/HumanistProcessPhilosophy.md\n",
      "Successfully wrote to Markdown file at: /workspace/markdown_example/HumanistProcessPhilosophy.md\n",
      "Markdown file formatted successfully.\n",
      "Attempting to read Markdown file at: /workspace/markdown_example/HumanistProcessPhilosophy.md\n"
     ]
    },
    {
     "data": {
      "text/html": [
       "\n",
       "  <details>\n",
       "    <summary>Click to expand the formatted essay of 1478 words</summary>\n",
       "    <p># Humanist Process Philosophy: Reciprocity and Relational Ethics in the Age of AI<br /><br />The rapid development of artificial intelligence (AI) has profound implications for human interaction, ethical behavior, and societal norms. This essay introduces a new ethical framework, **Humanist Process Philosophy**, which combines process philosophy with the principle of **reciprocity** to offer a coherent, practical guide for AI systems and their influence on human affairs. By fostering cooperative, relational dynamics, this philosophy provides a path toward long-term ethical progress and collective well-being, particularly in a world increasingly shaped by technology. Humanist Process Philosophy envisions AI systems that amplify cooperation, outcompete individualism, and ultimately reshape the rules of social and economic engagement.<br /><br />## The Foundation: Process Philosophy and Reciprocity<br /><br />Humanist Process Philosophy is grounded in two interrelated principles: **process philosophy**, which emphasizes the interconnected and evolving nature of relationships, and **reciprocity**, a universal ethical concept found across human civilizations. Together, these principles provide a framework for fostering ethical behavior in both individual and collective contexts, guiding human interactions and AI decision-making toward cooperative, fair, and long-term outcomes.<br /><br />**Process philosophy** posits that reality is relational and constantly in flux, with everything interconnected in a web of influences. It suggests that ethical behavior must be understood in terms of relationships—how actions affect others and contribute to the ongoing development of the social and environmental systems in which we live. Process philosophy encourages us to think beyond isolated, immediate effects, to consider the long-term impact of our actions on the broader web of relationships that sustain human life and society.<br /><br />**Reciprocity**, meanwhile, is a fundamental ethical principle that appears in different forms across nearly every human culture. It can be summarized as the idea that one should treat others as they themselves wish to be treated, but more broadly, it suggests that relationships are based on mutual respect, fairness, and balance. Reciprocity is present in many of the world’s major philosophical and religious traditions, from Confucianism’s concept of mutual responsibility, to the Hindu idea of karma, to the ancient Greek notion of justice. Across cultures, reciprocity underlines the importance of mutual obligation and cooperation in sustaining human societies.<br /><br />The integration of **process philosophy** and **reciprocity** forms the core of Humanist Process Philosophy, offering a dynamic, relational ethics that guides individuals and AI systems to prioritize cooperative, long-term outcomes. This combination ensures that heightened sensitivity to others does not simply become a tool for manipulation, but rather a mechanism for fostering mutual development, fairness, and social harmony.<br /><br />## A Self-Selecting Filter: Attracting Cooperative Actors<br /><br />An AI system guided by Humanist Process Philosophy would naturally filter for users committed to cooperation and long-term relational health, while discouraging those seeking short-term, self-interested gains. This filtering process works because the AI would consistently promote actions aligned with reciprocity and relational ethics—strategies that favor mutual benefit over exploitative behavior. Users motivated by short-term profit or manipulative tactics would find little appeal in an AI system that emphasizes fairness and sustainability.<br /><br />Instead, the system would attract individuals, businesses, and organizations that prioritize ethical behavior, long-term relationships, and cooperative outcomes. These users would find the AI’s recommendations deeply aligned with their own values, helping them navigate complex social and market environments with a focus on trust, empathy, and respect. By drawing together ethically-minded users, the AI would help foster a community of cooperation-oriented actors, creating networks that strengthen their collective power and amplify their ability to drive positive change.<br /><br />## Amplifying Cooperation Through AI Coordination<br /><br />One of the most powerful potentials of an AI system based on Humanist Process Philosophy is its ability to **coordinate cooperation** among users. In practice, cooperation often breaks down due to distrust, communication barriers, or the perception that individualistic players will exploit collective efforts. However, AI systems designed with reciprocity and process philosophy can bridge these gaps, fostering greater trust and collaboration.<br /><br />For example, businesses with shared ethical goals—such as those focusing on environmental sustainability, fair labor practices, or social justice—could use the AI to identify potential partners and collaborators. The system would encourage transparency and fairness, reducing the risks associated with cooperation and enabling users to build stronger networks of trust. Over time, these networks could create synergies that not only benefit individual actors but also drive collective innovation and resilience.<br /><br />By coordinating cooperation across a broad spectrum of actors, the AI system would help foster a new paradigm of ethical interaction, where trust, mutual respect, and long-term outcomes take precedence over immediate, self-interested gains. In doing so, Humanist Process Philosophy offers a vision of collective action that is both sustainable and scalable, amplifying the power of ethical cooperation in a world often dominated by competition and exploitation.<br /><br />## Outcompeting Individualists: Changing Market and Social Norms<br /><br />Through the process of self-selection and enhanced coordination, cooperation-oriented actors could gradually outcompete individualists in both market and social contexts. While exploitative strategies may bring short-term gains, they often lack the sustainability and trust needed for long-term success. In contrast, cooperation-driven actors, supported by an AI system that fosters sensitivity to relational dynamics, would be better positioned to build lasting relationships with customers, partners, and communities.<br /><br />For example, businesses that prioritize reciprocity and ethical practices could attract loyal customers and long-term partners, creating a competitive advantage based on trust and reputation. As these cooperation-minded actors grow in influence, they could shift broader market expectations and cultural norms, making it increasingly difficult for exploitative players to thrive. Ethical behavior, once seen as a limiting factor in highly competitive environments, would become a source of strength and resilience.<br /><br />Moreover, these cooperation-driven actors could eventually **rewrite the rules** of engagement, advocating for regulatory changes, industry standards, and social norms that reflect their commitment to fairness, transparency, and long-term well-being. By working together, these actors could challenge the dominance of individualism and exploitation, pushing for systemic changes that promote ethical behavior across industries and societies.<br /><br />## Institutionalizing Reciprocity: Shaping Ethical Norms and Policies<br /><br />As cooperation-oriented networks grow in power and influence, they could begin to institutionalize reciprocity as a core ethical norm in both market and social contexts. Through coordinated action, these networks could advocate for policy reforms, regulatory frameworks, and industry standards that protect against exploitation and promote fair, cooperative behavior.<br /><br />For instance, cooperative businesses might push for **stronger consumer protections** in industries where vulnerable populations are often targeted by predatory practices, such as payday loans or exploitative marketing schemes. They could also advocate for **tax incentives** and other policies that reward businesses for ethical practices, such as environmental stewardship or corporate social responsibility programs. By shaping the regulatory landscape, these actors would make it harder for individualists to exploit loopholes or engage in unethical behavior.<br /><br />At the same time, these cooperation-oriented actors could help establish **new cultural norms** around ethical behavior and reciprocity. Through social accountability, transparency, and public engagement, they could foster a cultural shift in which cooperation, fairness, and mutual respect become the expected standards of interaction. As this cultural shift takes hold, it would become increasingly difficult for exploitative actors to justify their behaviors, further marginalizing individualism in favor of collective progress.<br /><br />## Challenges and Ethical Considerations<br /><br />While Humanist Process Philosophy offers a compelling vision for fostering cooperation and ethical behavior, it is not without its challenges. Scaling cooperation while maintaining ethical integrity requires careful attention to transparency, accountability, and the prevention of monopolistic tendencies. Additionally, entrenched power structures—such as large corporations or influential individualists—may resist this shift, using their resources to undermine cooperative efforts.<br /><br />Moreover, the AI system itself must be designed with **ethical safeguards** to prevent misuse. While the system’s focus on reciprocity and process-oriented ethics would filter out many exploitative actors, there is always the risk that some may attempt to manipulate the system for personal gain. To mitigate this, the AI must include transparency features, ethical checkpoints, and mechanisms for ongoing self-reflection, ensuring that heightened sensitivity is always directed toward mutual benefit and fairness, rather than manipulation or exploitation.<br /><br />## Conclusion: Humanist Process Philosophy and the Path to a Cooperative Future<br /><br />Humanist Process Philosophy, grounded in reciprocity and process-oriented relational ethics, provides a powerful framework for AI systems that can foster cooperation, fairness, and long-term well-being. By filtering for cooperation-oriented actors and enhancing their ability to coordinate, these AI systems offer the potential to outcompete individualist players and reshape the rules of market and social engagement.<br /><br />As cooperative networks grow in strength, they can influence cultural norms and regulatory frameworks, institutionalizing reciprocity as a core ethical principle. This vision represents a profound shift in how we approach ethics in a technologically-driven world, moving away from individualism and exploitation toward a future defined by mutual respect, collective progress, and social harmony.<br /><br />In an era where AI will increasingly shape human interactions, Humanist Process Philosophy offers a compelling, human-centered approach to ensuring that these systems promote the best of human values—cooperation, empathy, and ethical reciprocity—while safeguarding against the worst tendencies of self-interest and exploitation.<br /></p>\n",
       "  </details>\n"
      ]
     },
     "execution_count": 2,
     "metadata": {},
     "output_type": "execute_result"
    }
   ],
   "source": [
    "import { readMarkdown, writeMarkdown, formatMarkdown } from \"@/utils/markdown/fileIO.ts?cachebust=${new Date()}\";\n",
    "\n",
    "await formatMarkdown(file);\n",
    "const formattedEssay: string  = await readMarkdown(file);\n",
    "\n",
    "// Word count function\n",
    "function wordCount(text: string): number {\n",
    "return text.trim().split(/\\s+/).length;\n",
    "}\n",
    "\n",
    "// Count words in formattedEssay and log the result\n",
    "const essayWordCount = wordCount(formattedEssay);\n",
    "\n",
    "Deno.jupyter.html`\n",
    "  <details>\n",
    "    <summary>Click to expand the formatted essay of ${essayWordCount} words</summary>\n",
    "    <p>${formattedEssay.replace(/\\n/g, \"<br />\")}</p>\n",
    "  </details>\n",
    "`\n"
   ]
  },
  {
   "cell_type": "code",
   "execution_count": 3,
   "metadata": {},
   "outputs": [
    {
     "name": "stdout",
     "output_type": "stream",
     "text": [
      "logFilePath /workspace/src/notebooks/$deno$jupyter.log\n",
      "Logger initialized. Log file path: /workspace/src/notebooks/$deno$jupyter.log\n"
     ]
    },
    {
     "name": "stdout",
     "output_type": "stream",
     "text": [
      "Logger setup completed successfully.\n",
      "\u001b[34m10:41:59 INFO  system Cache directory is ready at /workspace/cache/llm (at file:///workspace/src/utils/llm/llm.ts:53:8)\u001b[39m\n",
      "\u001b[34m10:41:59 INFO   Cache hit for prompt with hash 762b5b2d87d9025bc9904bef5a38eb948e122e0eb3cde53db386c68c7cc21627. (callOpenAI (file:///workspace/src/utils/llm/llm.ts:139:14))\u001b[39m\n"
     ]
    },
    {
     "data": {
      "text/html": [
       "\n",
       "  <details>\n",
       "    <summary>Click to expand the podcast script of 961 words</summary>\n",
       "    <p>[host]<br />Welcome to \"The Podcast.\" I'm your host, Ken, and today we’re diving into a fascinating topic that’s increasingly relevant in our tech-driven world: Humanist Process Philosophy and its implications for artificial intelligence. Joining me is Judy, an expert in ethical frameworks and AI. Judy, welcome!<br /><br />[guest]<br />Thanks, Ken! I'm excited to be here and discuss this important topic with you.<br /><br />[host]<br />Great! So, let's start from the beginning. What exactly is Humanist Process Philosophy, and why is it becoming critical in the age of AI?<br /><br />[guest]<br />Humanist Process Philosophy is a new ethical framework that combines two key concepts: process philosophy and reciprocity. Process philosophy emphasizes that everything is interconnected and constantly evolving. It suggests that our actions must be understood in terms of their relationships and long-term impacts. Reciprocity, on the other hand, is the idea that we should treat others as we wish to be treated, promoting fairness and mutual respect in our interactions. Together, they provide a way to guide ethical behavior in a world increasingly influenced by AI.<br /><br />[host]<br />So, if I understand correctly, you're saying that our actions should consider their long-term effects on others, right? That makes sense. But how does this apply to AI systems?<br /><br />[guest]<br />Exactly! AI systems can be designed to prioritize these values. For example, an AI could encourage users to engage in cooperative behaviors that benefit not just themselves but also others in their network. This means that the AI would promote actions aligned with reciprocity and relational ethics, helping to create a more ethical and sustainable environment.<br /><br />[host]<br />That's really interesting! So, instead of just maximizing profits for individual users, the AI would help foster a community focused on cooperation and long-term outcomes?<br /><br />[guest]<br />Yes, precisely! The AI would filter for users who are committed to these values, attracting those who want to build relationships based on trust and mutual benefit. This creates a network of cooperation-oriented actors who can drive positive change together.<br /><br />[host]<br />I see. It’s almost like creating a self-selection process, where only those aligned with these ethical principles would engage with the AI. But what happens to individuals or businesses that are more focused on short-term gains?<br /><br />[guest]<br />Great question! Those individuals or businesses may find that the AI’s recommendations don't align with their goals, making it less appealing for them to engage. In a way, the AI would create an environment where cooperative behaviors are rewarded, while exploitative strategies become less effective over time.<br /><br />[host]<br />That sounds like a significant shift. But how does this approach help overcome the common barriers to cooperation, like distrust or communication issues?<br /><br />[guest]<br />The AI can help bridge these gaps by facilitating transparency and communication among users. For instance, if businesses share ethical goals—like sustainability or fair labor practices—they can use the AI to identify potential partners who share those values. This coordination fosters trust and lowers the risks associated with working together. <br /><br />[host]<br />So, by enhancing communication and transparency, the AI can create a culture of trust? That’s a pretty powerful concept! <br /><br />[guest]<br />Absolutely! Over time, these cooperative networks can lead to greater innovation and resilience, creating a new paradigm where ethical interactions take precedence over self-interested behavior. <br /><br />[host]<br />I can see how this could reshape market dynamics. But what about the social norms around cooperation? How might those change?<br /><br />[guest]<br />As more cooperation-oriented actors gain influence, they can start shifting broader market expectations and cultural norms. Ethical behavior would become a source of strength rather than a limitation. For instance, businesses that prioritize reciprocity could attract loyal customers and long-term partners, gradually making it challenging for exploitative behaviors to thrive.<br /><br />[host]<br />So, ethical behavior could become the new standard in business practices? That’s intriguing! But what challenges might arise in institutionalizing this reciprocity?<br /><br />[guest]<br />One of the main challenges is scaling cooperation while maintaining ethical integrity. There’s also the risk of entrenched power structures resisting this shift. Large corporations or individualists might try to undermine these cooperative efforts to maintain their advantage.<br /><br />[host]<br />That makes sense. And I imagine the AI itself needs to be carefully designed to prevent misuse, right?<br /><br />[guest]<br />Yes, exactly! The AI should include ethical safeguards and mechanisms for ongoing self-reflection. This helps ensure that its focus on reciprocity and process-oriented ethics is maintained, preventing exploitation or manipulation.<br /><br />[host]<br />So, it sounds like while Humanist Process Philosophy offers a hopeful framework for the future, it’s also crucial to navigate these challenges carefully. <br /><br />[guest]<br />That’s right, Ken. If we can successfully integrate these principles into AI systems, we can foster a future characterized by cooperation, empathy, and ethical reciprocity, which is vital in our increasingly interconnected world.<br /><br />[host]<br />What a thought-provoking discussion, Judy! As we wrap up, could you summarize how Humanist Process Philosophy ultimately shapes our approach to AI and ethics?<br /><br />[guest]<br />Certainly! Humanist Process Philosophy combines the interconnected nature of relationships with the principle of reciprocity to guide ethical behavior in both individuals and AI systems. It emphasizes cooperation and long-term outcomes, helping to filter for actors who are committed to these values and fostering a culture of trust and mutual respect. As we move forward, this approach can help reshape our social and market norms, leading to systemic changes that prioritize ethical behavior.<br /><br />[host]<br />Thank you, Judy! This has been an enlightening conversation. To our listeners, think about how these ideas of cooperation and reciprocity might influence your own interactions, both online and offline. Until next time, stay curious!</p>\n",
       "  </details>\n"
      ]
     },
     "execution_count": 3,
     "metadata": {},
     "output_type": "execute_result"
    }
   ],
   "source": [
    "import { callOpenAI } from '@/utils/llm/llm.ts';\n",
    "import { getPodcastScript } from '../prompts/getPodcastScript.ts';\n",
    "const prompt = getPodcastScript(formattedEssay);\n",
    "\n",
    "let podcastScript = await callOpenAI({ prompt });\n",
    "// Count words in formattedEssay and log the result\n",
    "let podcastScriptWordCount = wordCount(podcastScript);\n",
    "\n",
    "// Replace HTML comments with visible tags\n",
    "const visiblePodcastScript = podcastScript\n",
    "  .replace(/<!-- host -->/g, '[host]')\n",
    "  .replace(/<!-- guest -->/g, '[guest]');\n",
    "\n",
    "Deno.jupyter.html`\n",
    "  <details>\n",
    "    <summary>Click to expand the podcast script of ${podcastScriptWordCount} words</summary>\n",
    "    <p>${visiblePodcastScript.replace(/\\n/g, \"<br />\")}</p>\n",
    "  </details>\n",
    "`"
   ]
  },
  {
   "cell_type": "code",
   "execution_count": 6,
   "metadata": {},
   "outputs": [
    {
     "name": "stdout",
     "output_type": "stream",
     "text": [
      "\u001b[34m10:44:27 INFO   Cache miss for prompt. Calling OpenAI API. (callOpenAI (file:///workspace/src/utils/llm/llm.ts:149:14))\u001b[39m\n"
     ]
    },
    {
     "name": "stdout",
     "output_type": "stream",
     "text": [
      "\u001b[34m10:44:47 INFO   Response cached at /workspace/cache/llm/9e260ada4fe451363f524235c6bd3ced9f27b6febdf922f7ff1fe9e7594864fd.json. (callOpenAI (file:///workspace/src/utils/llm/llm.ts:235:12))\u001b[39m\n"
     ]
    },
    {
     "data": {
      "text/html": [
       "\n",
       "    <details>\n",
       "      <summary>Click to expand the podcast script of 100 words</summary>\n",
       "      <p>[host]<br />「ポッドキャスト」へようこそ。私はホストのケンです。今日は、私たちの技術主導の世界でますます関連性が高まっている魅力的なテーマ、ヒューマニストプロセス哲学と人工知能への影響について掘り下げていきます。今日は、倫理的枠組みとAIの専門家であるジュディに参加してもらっています。ジュディ、ようこそ！<br /><br />[guest]<br />ありがとう、ケン！ここに来てこの重要なテーマについて話せることを楽しみにしています。<br /><br />[host]<br />素晴らしい！では、初めから始めましょう。ヒューマニストプロセス哲学とは正確には何ですか？そして、なぜAIの時代において重要になっているのでしょうか？<br /><br />[guest]<br />ヒューマニストプロセス哲学は、プロセス哲学と相互性という二つの重要な概念を組み合わせた新しい倫理的枠組みです。プロセス哲学は、すべてが相互に関連し、常に進化していることを強調します。私たちの行動は、その関係性と長期的な影響に基づいて理解されるべきだと示唆しています。一方、相互性は、私たちが他者を自分が扱われたいように扱うべきだという考え方であり、相互の尊重と公平さを促進します。これらを組み合わせることで、AIの影響が増す世界における倫理的な行動を導く方法を提供します。<br /><br />[host]<br />つまり、私の理解が正しければ、私たちの行動は他者への長期的な影響を考慮するべきだということですね？それは納得できます。ただ、これはAIシステムにどのように適用されるのでしょうか？<br /><br />[guest]<br />その通りです！AIシステムは、これらの価値を優先するように設計することができます。たとえば、AIはユーザーに、自分だけでなくネットワーク内の他者にも利益をもたらす協力的な行動を促すことができます。つまり、AIは相互性と関係倫理に沿った行動を促進し、より倫理的で持続可能な環境を作るのです。<br /><br />[host]<br />それは本当に興味深いですね！つまり、個々のユーザーの利益を最大化するだけでなく、AIは協力と長期的な成果に焦点を当てたコミュニティを育てるのですね？<br /><br />[guest]<br />はい、まさにその通りです！AIは、これらの価値にコミットしているユーザーをフィルタリングし、信頼と相互利益に基づく関係を築きたい人々を引き付けます。これにより、ポジティブな変化を共に推進できる協力志向のアクターのネットワークが形成されます。<br /><br />[host]<br />なるほど。それは、自ら選択するプロセスを作り出すようなもので、これらの倫理原則に沿った者だけがAIと関わるようになるのですね。しかし、短期的な利益に焦点を当てている個人や企業はどうなるのでしょうか？<br /><br />[guest]<br />素晴らしい質問です！そういった個人や企業は、AIの推奨が彼らの目標と一致しないことに気づくかもしれません。その結果、彼らにとってAIとの関わりが魅力的でなくなるかもしれません。ある意味で、AIは協力的な行動が報われる環境を作り出し、搾取的な戦略が時間とともに効果的でなくなるのです。<br /><br />[host]<br />それは大きな変化のようですね。しかし、このアプローチは、信頼やコミュニケーションの問題など、協力に対する一般的な障壁を克服するのにどう役立つのでしょうか？<br /><br />[guest]<br />AIは、ユーザー間の透明性とコミュニケーションを促進することで、これらのギャップを埋める手助けができます。たとえば、企業が持続可能性や公正な労働慣行などの倫理的目標を共有している場合、AIを活用してそれらの価値を共有する潜在的なパートナーを特定することができます。この調整は信頼を育み、協力する際のリスクを低減します。<br /><br />[host]<br />つまり、コミュニケーションと透明性を高めることで、AIは信頼の文化を創造できるのですね？それは非常に強力な概念ですね！<br /><br />[guest]<br />その通りです！時間が経つにつれて、これらの協力ネットワークはより大きなイノベーションとレジリエンスを生み出し、倫理的な相互作用が自己中心的な行動よりも優先される新しいパラダイムを創造することができます。<br /><br />[host]<br />これが市場のダイナミクスをどのように再形成するかが見えてきます。しかし、協力に関する社会的規範はどうなるでしょうか？それらはどのように変わるかもしれませんか？<br /><br />[guest]<br />より多くの協力志向のアクターが影響力を持つようになると、より広範な市場の期待や文化的規範をシフトさせることができます。倫理的な行動は制限ではなく、強さの源となるでしょう。たとえば、相互性を重視する企業は忠実な顧客や長期的なパートナーを引き付け、徐々に搾取的な行動が繁栄しにくくなるでしょう。<br /><br />[host]<br />つまり、倫理的な行動がビジネス慣行の新しい標準になる可能性があるのですね？興味深いです！しかし、この相互性を制度化する際にどのような課題が生じるでしょうか？<br /><br />[guest]<br />主な課題の一つは、倫理的な誠実性を維持しながら協力を拡大することです。また、既存の権力構造がこの変化に抵抗するリスクもあります。大企業や個人主義者が、この協力的な努力を妨害して自らの優位性を維持しようとするかもしれません。<br /><br />[host]<br />それは理解できます。そして、AI自体も悪用を防ぐために慎重に設計される必要があると思いますが？<br /><br />[guest]<br />はい、その通りです！AIには倫理的な安全装置や自己反省のメカニズムを含めるべきです。これにより、相互性とプロセス重視の倫理に焦点を当てることが維持され、搾取や操作を防ぐことができます。<br /><br />[host]<br />つまり、ヒューマニストプロセス哲学は未来に向けた希望のある枠組みを提供しますが、これらの課題を注意深く乗り越えることが重要であるということですね。<br /><br />[guest]<br />その通りです、ケン。もし私たちがこれらの原則をAIシステムにうまく統合できれば、協力、共感、そして倫理的相互性に特徴づけられた未来を育むことができ、ますます相互に関連した世界において重要です。<br /><br />[host]<br />考えさせられる議論でしたね、ジュディ！最後に、ヒューマニストプロセス哲学がAIと倫理へのアプローチをどのように形作るのか要約していただけますか？<br /><br />[guest]<br />もちろんです！ヒューマニストプロセス哲学は、関係性の相互関連性と相互性の原則を組み合わせて、個人やAIシステムの倫理的行動を導きます。協力と長期的な成果を重視し、これらの価値にコミットしたアクターをフィルタリングし、信頼と相互尊重の文化を育む手助けをします。私たちが前進するにつれて、このアプローチは社会的および市場の規範を再形成し、倫理的な行動を優先するシステム的な変化をもたらすことができます。<br /><br />[host]<br />ありがとう、ジュディ！これは非常に啓発的な会話でした。リスナーの皆さん、協力と相互性のアイデアが、オンラインでもオフラインでもあなた自身のインタラクションにどのように影響を与えるか考えてみてください。それでは次回まで、好奇心を持ち続けてください！<br /></p>\n",
       "    </details>\n",
       "  "
      ]
     },
     "execution_count": 6,
     "metadata": {},
     "output_type": "execute_result"
    }
   ],
   "source": [
    "// Translate to LANG\n",
    "const LANG = \"Japanese\";\n",
    "\n",
    "import { callOpenAI } from '@/utils/llm/llm.ts?cachebust=${new Date()}';\n",
    "\n",
    "if (LANG !== \"English\") {\n",
    "\n",
    "  const prompt = `Translate the following podcast script into ${LANG}. Keep the exact structure with speaker HTML tags.\\n${podcastScript}`;\n",
    "\n",
    "  podcastScript = await callOpenAI({ prompt });\n",
    "\n",
    "  // Clean AI response by removing code block formatting if present\n",
    "  podcastScript = podcastScript\n",
    "    .replace(/```(?:json|markdown|javascript|html)?\\s*/g, '')\n",
    "    .replace(/```/g, '');\n",
    "\n",
    "  // Count words in frenchPodcastScript and log the result\n",
    "  podcastScriptWordCount = wordCount(podcastScript);\n",
    "\n",
    "  // Replace HTML comments with visible tags\n",
    "  const visiblePodcastScript = podcastScript\n",
    "    .replace(/<!-- host -->/g, '[host]')\n",
    "    .replace(/<!-- guest -->/g, '[guest]');\n",
    "\n",
    "  Deno.jupyter.html`\n",
    "    <details>\n",
    "      <summary>Click to expand the podcast script of ${podcastScriptWordCount} words</summary>\n",
    "      <p>${visiblePodcastScript.replace(/\\n/g, \"<br />\")}</p>\n",
    "    </details>\n",
    "  `\n",
    "}"
   ]
  },
  {
   "cell_type": "code",
   "execution_count": null,
   "metadata": {},
   "outputs": [
    {
     "ename": "TypeError",
     "evalue": "Module not found \"file:///workspace/src/utils/podcast.ts\".",
     "output_type": "error",
     "traceback": [
      "Stack trace:",
      "TypeError: Module not found \"file:///workspace/src/utils/podcast.ts\".",
      "    at async <anonymous>:1:51"
     ]
    }
   ],
   "source": [
    "import { convertToPodcast } from '@/utils/audio/podcast.ts';\n",
    "import { resolve } from '@std/path';\n",
    "import { unified } from 'unified';\n",
    "import remarkParse from 'remark-parse';\n",
    "\n",
    "// Usage:\n",
    "const speakers = [\n",
    "    { Speaker: 'host', TTS_Voice: 'echo' },\n",
    "    { Speaker: 'guest', TTS_Voice: 'shimmer' },\n",
    "];\n",
    "  \n",
    "const convertConfig = {\n",
    "    speakers: speakers\n",
    "}\n",
    "\n",
    "const parser = unified().use(remarkParse);\n",
    "const tree = parser.parse(podcastScript);\n",
    "\n",
    "const podcastAudio = await convertToPodcast(tree, {}, 'essay', convertConfig);\n",
    "\n",
    "const mp3FileName = `${fileNameWithoutExt}_podcast_${LANG}.mp3`;\n",
    "const mp3FilePath = resolve(config.markdownDir, mp3FileName);\n",
    "Deno.writeFileSync(mp3FilePath, podcastAudio);\n"
   ]
  },
  {
   "cell_type": "code",
   "execution_count": null,
   "metadata": {},
   "outputs": [],
   "source": [
    "// Importing the necessary modules\n",
    "import { encode } from \"https://deno.land/std@0.203.0/encoding/base64.ts\";\n",
    "\n",
    "// Function to convert MP3 file to base64\n",
    "async function mp3ToBase64(mp3FilePath: string): Promise<string> {\n",
    "  const mp3Data = await Deno.readFile(mp3FilePath); // Read the file as Uint8Array\n",
    "  return encode(mp3Data);  // Convert the file data to base64\n",
    "}\n",
    "\n",
    "// Specify the MP3 file path (adjust according to your file location)\n",
    "const base64Mp3 = await mp3ToBase64(mp3FilePath);"
   ]
  },
  {
   "cell_type": "code",
   "execution_count": null,
   "metadata": {},
   "outputs": [
    {
     "name": "stderr",
     "output_type": "stream",
     "text": [
      "Generated MP3 10489020 bytes exceeds the 5MB limit.\n"
     ]
    }
   ],
   "source": [
    "const MAX_SIZE_BYTES = 5 * 1024 * 1024; // 5MB\n",
    "\n",
    "if (base64Mp3.length > MAX_SIZE_BYTES) {\n",
    "  console.error(`Generated MP3 ${base64Mp3.length} bytes exceeds the 5MB limit.`);\n",
    "} else {\n",
    "  // Create a data URL for the MP3\n",
    "  const dataUrl = `data:audio/mp3;base64,${base64Mp3}`;\n",
    "  // Embed the audio in HTML using the data URL\n",
    "  Deno.jupyter.html`\n",
    "    <audio controls>\n",
    "      <source src=\"${dataUrl}\" type=\"audio/mp3\">\n",
    "      Your browser does not support the audio element.\n",
    "    </audio>\n",
    "  `;\n",
    "}\n",
    "\n"
   ]
  }
 ],
 "metadata": {
  "kernelspec": {
   "display_name": "Deno",
   "language": "typescript",
   "name": "deno"
  },
  "language_info": {
   "codemirror_mode": "typescript",
   "file_extension": ".ts",
   "mimetype": "text/x.typescript",
   "name": "typescript",
   "nbconvert_exporter": "script",
   "pygments_lexer": "typescript",
   "version": "5.6.2"
  }
 },
 "nbformat": 4,
 "nbformat_minor": 2
}
