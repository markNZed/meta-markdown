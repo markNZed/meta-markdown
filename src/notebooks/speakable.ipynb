{
 "cells": [
  {
   "cell_type": "markdown",
   "metadata": {},
   "source": [
    "# Read Aloud\n",
    "\n",
    "A notebook to convert an essay into speech."
   ]
  },
  {
   "cell_type": "code",
   "execution_count": 1,
   "metadata": {},
   "outputs": [],
   "source": [
    "import { config } from '../../config.ts';\n",
    "const file = 'HumanistProcessPhilosophy.md';\n",
    "import { basename, extname } from \"https://deno.land/std/path/mod.ts\";\n",
    "// Strip the extension using extname\n",
    "const fileNameWithoutExt = basename(file, extname(file));"
   ]
  },
  {
   "cell_type": "code",
   "execution_count": 2,
   "metadata": {},
   "outputs": [
    {
     "name": "stdout",
     "output_type": "stream",
     "text": [
      "Attempting to read Markdown file at: /workspace/markdown_example/HumanistProcessPhilosophy.md\n"
     ]
    },
    {
     "name": "stdout",
     "output_type": "stream",
     "text": [
      "Successfully wrote to Markdown file at: /workspace/markdown_example/HumanistProcessPhilosophy.md\n",
      "Markdown file formatted successfully.\n",
      "Attempting to read Markdown file at: /workspace/markdown_example/HumanistProcessPhilosophy.md\n"
     ]
    },
    {
     "data": {
      "text/html": [
       "\n",
       "  <details>\n",
       "    <summary>Click to expand the formatted essay of 1478 words</summary>\n",
       "    <p># Humanist Process Philosophy: Reciprocity and Relational Ethics in the Age of AI<br /><br />The rapid development of artificial intelligence (AI) has profound implications for human interaction, ethical behavior, and societal norms. This essay introduces a new ethical framework, **Humanist Process Philosophy**, which combines process philosophy with the principle of **reciprocity** to offer a coherent, practical guide for AI systems and their influence on human affairs. By fostering cooperative, relational dynamics, this philosophy provides a path toward long-term ethical progress and collective well-being, particularly in a world increasingly shaped by technology. Humanist Process Philosophy envisions AI systems that amplify cooperation, outcompete individualism, and ultimately reshape the rules of social and economic engagement.<br /><br />## The Foundation: Process Philosophy and Reciprocity<br /><br />Humanist Process Philosophy is grounded in two interrelated principles: **process philosophy**, which emphasizes the interconnected and evolving nature of relationships, and **reciprocity**, a universal ethical concept found across human civilizations. Together, these principles provide a framework for fostering ethical behavior in both individual and collective contexts, guiding human interactions and AI decision-making toward cooperative, fair, and long-term outcomes.<br /><br />**Process philosophy** posits that reality is relational and constantly in flux, with everything interconnected in a web of influences. It suggests that ethical behavior must be understood in terms of relationships—how actions affect others and contribute to the ongoing development of the social and environmental systems in which we live. Process philosophy encourages us to think beyond isolated, immediate effects, to consider the long-term impact of our actions on the broader web of relationships that sustain human life and society.<br /><br />**Reciprocity**, meanwhile, is a fundamental ethical principle that appears in different forms across nearly every human culture. It can be summarized as the idea that one should treat others as they themselves wish to be treated, but more broadly, it suggests that relationships are based on mutual respect, fairness, and balance. Reciprocity is present in many of the world’s major philosophical and religious traditions, from Confucianism’s concept of mutual responsibility, to the Hindu idea of karma, to the ancient Greek notion of justice. Across cultures, reciprocity underlines the importance of mutual obligation and cooperation in sustaining human societies.<br /><br />The integration of **process philosophy** and **reciprocity** forms the core of Humanist Process Philosophy, offering a dynamic, relational ethics that guides individuals and AI systems to prioritize cooperative, long-term outcomes. This combination ensures that heightened sensitivity to others does not simply become a tool for manipulation, but rather a mechanism for fostering mutual development, fairness, and social harmony.<br /><br />## A Self-Selecting Filter: Attracting Cooperative Actors<br /><br />An AI system guided by Humanist Process Philosophy would naturally filter for users committed to cooperation and long-term relational health, while discouraging those seeking short-term, self-interested gains. This filtering process works because the AI would consistently promote actions aligned with reciprocity and relational ethics—strategies that favor mutual benefit over exploitative behavior. Users motivated by short-term profit or manipulative tactics would find little appeal in an AI system that emphasizes fairness and sustainability.<br /><br />Instead, the system would attract individuals, businesses, and organizations that prioritize ethical behavior, long-term relationships, and cooperative outcomes. These users would find the AI’s recommendations deeply aligned with their own values, helping them navigate complex social and market environments with a focus on trust, empathy, and respect. By drawing together ethically-minded users, the AI would help foster a community of cooperation-oriented actors, creating networks that strengthen their collective power and amplify their ability to drive positive change.<br /><br />## Amplifying Cooperation Through AI Coordination<br /><br />One of the most powerful potentials of an AI system based on Humanist Process Philosophy is its ability to **coordinate cooperation** among users. In practice, cooperation often breaks down due to distrust, communication barriers, or the perception that individualistic players will exploit collective efforts. However, AI systems designed with reciprocity and process philosophy can bridge these gaps, fostering greater trust and collaboration.<br /><br />For example, businesses with shared ethical goals—such as those focusing on environmental sustainability, fair labor practices, or social justice—could use the AI to identify potential partners and collaborators. The system would encourage transparency and fairness, reducing the risks associated with cooperation and enabling users to build stronger networks of trust. Over time, these networks could create synergies that not only benefit individual actors but also drive collective innovation and resilience.<br /><br />By coordinating cooperation across a broad spectrum of actors, the AI system would help foster a new paradigm of ethical interaction, where trust, mutual respect, and long-term outcomes take precedence over immediate, self-interested gains. In doing so, Humanist Process Philosophy offers a vision of collective action that is both sustainable and scalable, amplifying the power of ethical cooperation in a world often dominated by competition and exploitation.<br /><br />## Outcompeting Individualists: Changing Market and Social Norms<br /><br />Through the process of self-selection and enhanced coordination, cooperation-oriented actors could gradually outcompete individualists in both market and social contexts. While exploitative strategies may bring short-term gains, they often lack the sustainability and trust needed for long-term success. In contrast, cooperation-driven actors, supported by an AI system that fosters sensitivity to relational dynamics, would be better positioned to build lasting relationships with customers, partners, and communities.<br /><br />For example, businesses that prioritize reciprocity and ethical practices could attract loyal customers and long-term partners, creating a competitive advantage based on trust and reputation. As these cooperation-minded actors grow in influence, they could shift broader market expectations and cultural norms, making it increasingly difficult for exploitative players to thrive. Ethical behavior, once seen as a limiting factor in highly competitive environments, would become a source of strength and resilience.<br /><br />Moreover, these cooperation-driven actors could eventually **rewrite the rules** of engagement, advocating for regulatory changes, industry standards, and social norms that reflect their commitment to fairness, transparency, and long-term well-being. By working together, these actors could challenge the dominance of individualism and exploitation, pushing for systemic changes that promote ethical behavior across industries and societies.<br /><br />## Institutionalizing Reciprocity: Shaping Ethical Norms and Policies<br /><br />As cooperation-oriented networks grow in power and influence, they could begin to institutionalize reciprocity as a core ethical norm in both market and social contexts. Through coordinated action, these networks could advocate for policy reforms, regulatory frameworks, and industry standards that protect against exploitation and promote fair, cooperative behavior.<br /><br />For instance, cooperative businesses might push for **stronger consumer protections** in industries where vulnerable populations are often targeted by predatory practices, such as payday loans or exploitative marketing schemes. They could also advocate for **tax incentives** and other policies that reward businesses for ethical practices, such as environmental stewardship or corporate social responsibility programs. By shaping the regulatory landscape, these actors would make it harder for individualists to exploit loopholes or engage in unethical behavior.<br /><br />At the same time, these cooperation-oriented actors could help establish **new cultural norms** around ethical behavior and reciprocity. Through social accountability, transparency, and public engagement, they could foster a cultural shift in which cooperation, fairness, and mutual respect become the expected standards of interaction. As this cultural shift takes hold, it would become increasingly difficult for exploitative actors to justify their behaviors, further marginalizing individualism in favor of collective progress.<br /><br />## Challenges and Ethical Considerations<br /><br />While Humanist Process Philosophy offers a compelling vision for fostering cooperation and ethical behavior, it is not without its challenges. Scaling cooperation while maintaining ethical integrity requires careful attention to transparency, accountability, and the prevention of monopolistic tendencies. Additionally, entrenched power structures—such as large corporations or influential individualists—may resist this shift, using their resources to undermine cooperative efforts.<br /><br />Moreover, the AI system itself must be designed with **ethical safeguards** to prevent misuse. While the system’s focus on reciprocity and process-oriented ethics would filter out many exploitative actors, there is always the risk that some may attempt to manipulate the system for personal gain. To mitigate this, the AI must include transparency features, ethical checkpoints, and mechanisms for ongoing self-reflection, ensuring that heightened sensitivity is always directed toward mutual benefit and fairness, rather than manipulation or exploitation.<br /><br />## Conclusion: Humanist Process Philosophy and the Path to a Cooperative Future<br /><br />Humanist Process Philosophy, grounded in reciprocity and process-oriented relational ethics, provides a powerful framework for AI systems that can foster cooperation, fairness, and long-term well-being. By filtering for cooperation-oriented actors and enhancing their ability to coordinate, these AI systems offer the potential to outcompete individualist players and reshape the rules of market and social engagement.<br /><br />As cooperative networks grow in strength, they can influence cultural norms and regulatory frameworks, institutionalizing reciprocity as a core ethical principle. This vision represents a profound shift in how we approach ethics in a technologically-driven world, moving away from individualism and exploitation toward a future defined by mutual respect, collective progress, and social harmony.<br /><br />In an era where AI will increasingly shape human interactions, Humanist Process Philosophy offers a compelling, human-centered approach to ensuring that these systems promote the best of human values—cooperation, empathy, and ethical reciprocity—while safeguarding against the worst tendencies of self-interest and exploitation.<br /></p>\n",
       "  </details>\n"
      ]
     },
     "execution_count": 2,
     "metadata": {},
     "output_type": "execute_result"
    }
   ],
   "source": [
    "import { readMarkdown, writeMarkdown, formatMarkdown } from '../utils/fileIO.ts?cachebust=${new Date()}';\n",
    "\n",
    "await formatMarkdown(file);\n",
    "const formattedEssay: string  = await readMarkdown(file);\n",
    "\n",
    "// Word count function\n",
    "function wordCount(text: string): number {\n",
    "return text.trim().split(/\\s+/).length;\n",
    "}\n",
    "\n",
    "// Count words in formattedEssay and log the result\n",
    "const essayWordCount = wordCount(formattedEssay);\n",
    "\n",
    "Deno.jupyter.html`\n",
    "  <details>\n",
    "    <summary>Click to expand the formatted essay of ${essayWordCount} words</summary>\n",
    "    <p>${formattedEssay.replace(/\\n/g, \"<br />\")}</p>\n",
    "  </details>\n",
    "`\n"
   ]
  },
  {
   "cell_type": "code",
   "execution_count": 3,
   "metadata": {},
   "outputs": [
    {
     "name": "stdout",
     "output_type": "stream",
     "text": [
      "INFO Cache directory is ready at /workspace/llm-cache - requestId: system\n",
      "INFO Cache hit for prompt with hash 18f15d9ca196a19f67db6cdba66426e4f8b3bfaa6ddcb13430d5573a825bd7ae. - requestId: undefined\n"
     ]
    },
    {
     "data": {
      "text/html": [
       "\n",
       "  <details>\n",
       "    <summary>Click to expand the speakable essay</summary>\n",
       "    <p># Humanist Process Philosophy: Reciprocity and Relational Ethics in the Age of AI<br /><br />As we witness the rapid evolution of artificial intelligence (AI), it’s clear that this technology is reshaping our interactions, ethical standards, and societal norms in profound ways. So, let’s explore an exciting new ethical framework known as **Humanist Process Philosophy**. This framework merges process philosophy with the principle of **reciprocity**, creating a practical guide for how AI systems can influence human affairs positively. The goal here is to foster cooperative and relational dynamics that lead to long-term ethical progress and collective well-being, especially in a world increasingly influenced by technology. Imagine AI systems that not only enhance cooperation but also challenge the dominance of individualism, reshaping our social and economic interactions for the better.<br /><br />## Let’s Begin with the Foundation: Process Philosophy and Reciprocity<br /><br />To understand Humanist Process Philosophy, we need to start with its two foundational principles: **process philosophy** and **reciprocity**. <br /><br />**Process philosophy** teaches us that reality is interconnected and always changing. Think of it as a web of relationships where everything affects everything else. This perspective encourages us to view ethical behavior not just in terms of immediate outcomes, but in how our actions shape the broader social and environmental systems around us. For instance, when a company decides to cut costs by outsourcing labor, it’s not just about financial gain; it also impacts the workers' lives, the community, and the environment. Recognizing these connections helps us make more thoughtful, long-term decisions.<br /><br />Now, let’s talk about **reciprocity**. This principle, found in various cultures worldwide, revolves around treating others as we’d like to be treated ourselves. It emphasizes fairness, mutual respect, and balance in our relationships. You might see this in the way communities celebrate mutual aid—where helping each other out becomes a cultural norm. It’s a thread that ties together major philosophical and religious traditions, from the mutual responsibilities highlighted in Confucianism to the concept of karma in Hinduism.<br /><br />Together, these principles form the essence of Humanist Process Philosophy, guiding individuals and AI systems to prioritize cooperative and sustainable outcomes. What’s important here is that this combination ensures sensitivity to others is used to foster growth and harmony, not manipulation.<br /><br />## Now, Let’s Dive Into: A Self-Selecting Filter for Cooperation<br /><br />Imagine an AI system designed around Humanist Process Philosophy. This system would act as a self-selecting filter, naturally attracting users who are committed to cooperation and the long-term health of their relationships, while steering away those who seek only short-term, self-serving gains. <br /><br />Picture this: users driven by exploitative strategies would quickly find themselves at odds with an AI that champions fairness and sustainability. Instead, ethical individuals, businesses, and organizations would thrive, finding the AI’s recommendations resonate with their values. This creates an environment where trust, empathy, and respect flourish, allowing users to navigate complex social and market dynamics more effectively.<br /><br />By gathering like-minded individuals, this AI could cultivate a community where cooperation is the norm, significantly amplifying collective power and the ability to drive positive change.<br /><br />## Let’s Shift Gears to: Amplifying Cooperation Through AI Coordination<br /><br />One of the most exciting aspects of this AI system is its potential to **coordinate cooperation** among users. Often, cooperation falters due to distrust or communication barriers, not to mention the fear that individuals might exploit collaborative efforts. But with a design rooted in reciprocity and process philosophy, this AI can bridge those gaps.<br /><br />For example, consider businesses focused on environmental sustainability. With the help of the AI, they could easily find partners who share their ethical goals. The system would promote transparency and fairness, allowing users to build robust networks of trust. Over time, these connections could lead to innovative solutions that benefit not only the businesses involved but also society as a whole.<br /><br />By fostering a new paradigm of ethical interaction, this AI system can help shift the focus from individual gains to collective well-being, illustrating how Humanist Process Philosophy offers a sustainable and scalable approach to ethical cooperation in a competitive world.<br /><br />## Next, Let’s Explore: Outcompeting Individualists<br /><br />As cooperation-oriented actors begin to thrive, they have the potential to gradually outcompete individualists in both market and social settings. While short-term exploitative strategies may yield quick profits, they often lack the trust and sustainability required for lasting success. <br /><br />Think about it: businesses that prioritize reciprocity and ethical practices are likely to attract loyal customers and long-term partners. This creates a competitive advantage based on trust and reputation. As these ethical actors gain influence, they can reshape market expectations and cultural norms. Suddenly, ethical behavior isn’t just a nice-to-have; it becomes a crucial ingredient for success.<br /><br />These cooperation-driven actors can also begin to rewrite the rules of engagement, advocating for policies and standards that reflect their commitment to fairness and transparency. By working together, they can challenge exploitative practices and push for systemic changes that promote ethical behavior across industries.<br /><br />## Now, Let’s Discuss: Institutionalizing Reciprocity <br /><br />As these networks of cooperation grow stronger, they can help institutionalize reciprocity as a core ethical principle in both markets and society. Through unified efforts, they could advocate for policy reforms and regulatory frameworks that protect against exploitation and encourage fair, cooperative behavior.<br /><br />For instance, cooperative businesses might push for stronger consumer protections in industries known for predatory practices, like payday loans. They could also advocate for tax incentives that reward ethical corporate practices. By helping shape the regulatory landscape, these actors would create hurdles for individualists trying to exploit loopholes.<br /><br />At the same time, these cooperation-oriented actors could foster a cultural shift where ethical behavior and reciprocity become the expected norms. As this change takes root, it becomes increasingly difficult for exploitative actors to justify their actions, further promoting collective progress.<br /><br />## Finally, Let’s Consider: Challenges and Ethical Considerations<br /><br />While Humanist Process Philosophy presents a hopeful vision for enhancing cooperation, it also faces challenges. For example, scaling this cooperation while maintaining ethical integrity requires vigilance regarding transparency and accountability. Additionally, established power structures may resist this shift, using their resources to undermine cooperative efforts.<br /><br />Moreover, the AI system itself must be designed with **ethical safeguards** to prevent misuse. While it aims to filter out exploitative actors, the risk of manipulation remains. Therefore, the AI must incorporate transparency features, ethical checkpoints, and opportunities for self-reflection, ensuring that its heightened sensitivity promotes mutual benefit rather than exploitation.<br /><br />## In Conclusion: A Cooperative Future Awaits<br /><br />In summary, Humanist Process Philosophy offers a robust framework for AI systems that can nurture cooperation, fairness, and long-term well-being. By attracting cooperation-oriented users and enhancing their ability to collaborate, these systems can help reshape both market and social norms.<br /><br />As these networks of cooperation gain strength, they can influence cultural norms and regulatory frameworks, solidifying reciprocity as a foundational ethical principle. This shift represents a significant change in how we think about ethics in a technology-driven world, moving us away from individualism and exploitation towards a future characterized by mutual respect and social harmony.<br /><br />In an era where AI increasingly dictates human interactions, Humanist Process Philosophy provides a compelling, human-centered approach to ensure these systems promote our best values—cooperation, empathy, and ethical reciprocity—while guarding against the pitfalls of self-interest and exploitation.</p>\n",
       "  </details>\n"
      ]
     },
     "execution_count": 3,
     "metadata": {},
     "output_type": "execute_result"
    }
   ],
   "source": [
    "import { callOpenAI } from '../utils/llm/llm.ts';\n",
    "const prompt = `Prompt:\n",
    "\n",
    "    Modify this document to provide a more natural and engaging flow when read aloud.\n",
    "    Improve transitions between sections by using conversational language, and explicitly announce new sections with phrases such as \"Let’s begin with...\" or \"Now, let's dive into...\".\n",
    "    Add clear signposting phrases like \"Keep in mind...\" or \"What’s important here is...\" to highlight key points.\n",
    "    Where applicable, include hypothetical examples or brief narratives to make abstract ideas more relatable.\n",
    "    Include brief summaries or restatements of key sections to help listeners retain and connect the information easily.\n",
    "    Retain all the core ideas and concepts but ensure the tone is conversational, clear, and digestible for an audience listening to the content rather than reading it.\n",
    "\n",
    "Here's the document you are working with:\n",
    "\n",
    "${formattedEssay}`;\n",
    "\n",
    "const speakableEssay = await callOpenAI(prompt);\n",
    "// Count words in formattedEssay and log the result\n",
    "const speakableWordCount = wordCount(speakableEssay);\n",
    "\n",
    "Deno.jupyter.html`\n",
    "  <details>\n",
    "    <summary>Click to expand the speakable essay</summary>\n",
    "    <p>${speakableEssay.replace(/\\n/g, \"<br />\")}</p>\n",
    "  </details>\n",
    "`"
   ]
  },
  {
   "cell_type": "code",
   "execution_count": 7,
   "metadata": {},
   "outputs": [
    {
     "name": "stdout",
     "output_type": "stream",
     "text": [
      "INFO Processing TTS request. - requestId: essay\n",
      "INFO Text split into 3 chunk(s). - requestId: essay\n",
      "INFO Cache hit for chunk 1/3 with hash 2971899deee7e0fef2bc739d16c226b491fa7c981db5bc83d0ee51aa3ed6b692. - requestId: essay\n",
      "INFO Cache hit for chunk 2/3 with hash 019c7925f3a1c309847be6fb8bff692e7eaf9c13600419fb56261919d3f674bb. - requestId: essay\n",
      "INFO Cache hit for chunk 3/3 with hash f78669149cafac38d12f6ba8429e14c6fc5f4d93e683e5d973d3c35a3c694998. - requestId: essay\n",
      "DEBUG Starting audio merging process - requestId: essay\n",
      "DEBUG Created FFmpeg file list at /workspace/tts-cache/essay_filelist.txt - requestId: essay\n",
      "DEBUG Running FFmpeg command: ffmpeg -f concat -y -safe 0 -i /workspace/tts-cache/essay_filelist.txt -c copy /workspace/tts-cache/essay_merged.mp3 - requestId: essay\n",
      "INFO Audio merged successfully into /workspace/tts-cache/essay_merged.mp3 - requestId: essay\n",
      "DEBUG Deleted temporary FFmpeg file list at /workspace/tts-cache/essay_filelist.txt - requestId: essay\n",
      "INFO Audio merged successfully into /workspace/tts-cache/essay_merged.mp3 - requestId: essay\n"
     ]
    }
   ],
   "source": [
    "import { createAudioFromText } from '../utils/tts.ts';\n",
    "const mp3FilePath = await createAudioFromText(speakableEssay, 'essay', 'shimmer');\n",
    "// Should use a var for markdown_example - config ?\n",
    "const markdownDir = config.markdownDir;\n",
    "import { resolve } from '@std/path';\n",
    "// Get file name without extension\n",
    "const mp3FileName = `${fileNameWithoutExt}.mp3`;\n",
    "const destinationPath = resolve(markdownDir, mp3FileName);\n",
    "await Deno.copyFile(mp3FilePath, destinationPath);\n"
   ]
  },
  {
   "cell_type": "code",
   "execution_count": 5,
   "metadata": {},
   "outputs": [],
   "source": [
    "// Importing the necessary modules\n",
    "import { encode } from \"https://deno.land/std@0.203.0/encoding/base64.ts\";\n",
    "\n",
    "// Function to convert MP3 file to base64\n",
    "async function mp3ToBase64(mp3FilePath: string): Promise<string> {\n",
    "  const mp3Data = await Deno.readFile(mp3FilePath); // Read the file as Uint8Array\n",
    "  return encode(mp3Data);  // Convert the file data to base64\n",
    "}\n",
    "\n",
    "// Specify the MP3 file path (adjust according to your file location)\n",
    "const base64Mp3 = await mp3ToBase64(destinationPath);"
   ]
  },
  {
   "cell_type": "code",
   "execution_count": 6,
   "metadata": {},
   "outputs": [
    {
     "name": "stderr",
     "output_type": "stream",
     "text": [
      "Generated MP3 14273980 bytes exceeds the 5MB limit.\n"
     ]
    }
   ],
   "source": [
    "const MAX_SIZE_BYTES = 5 * 1024 * 1024; // 5MB\n",
    "\n",
    "if (base64Mp3.length > MAX_SIZE_BYTES) {\n",
    "  console.error(`Generated MP3 ${base64Mp3.length} bytes exceeds the 5MB limit.`);\n",
    "} else {\n",
    "  // Create a data URL for the MP3\n",
    "  const dataUrl = `data:audio/mp3;base64,${base64Mp3}`;\n",
    "  // Embed the audio in HTML using the data URL\n",
    "  Deno.jupyter.html`\n",
    "    <audio controls>\n",
    "      <source src=\"${dataUrl}\" type=\"audio/mp3\">\n",
    "      Your browser does not support the audio element.\n",
    "    </audio>\n",
    "  `;\n",
    "}\n"
   ]
  }
 ],
 "metadata": {
  "kernelspec": {
   "display_name": "Deno",
   "language": "typescript",
   "name": "deno"
  },
  "language_info": {
   "codemirror_mode": "typescript",
   "file_extension": ".ts",
   "mimetype": "text/x.typescript",
   "name": "typescript",
   "nbconvert_exporter": "script",
   "pygments_lexer": "typescript",
   "version": "5.6.2"
  }
 },
 "nbformat": 4,
 "nbformat_minor": 2
}
