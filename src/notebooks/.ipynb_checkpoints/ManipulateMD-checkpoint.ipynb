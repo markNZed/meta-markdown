{
 "cells": [
  {
   "cell_type": "markdown",
   "id": "86e5a916",
   "metadata": {},
   "source": [
    "# AI-Powered Markdown Manipulation\n",
    "\n",
    "This notebook demonstrates how to use AI features to manipulate Markdown files."
   ]
  },
  {
   "cell_type": "code",
   "execution_count": null,
   "id": "dedaaf6f",
   "metadata": {},
   "outputs": [],
   "source": [
    "// Import required modules using ESM\n",
    "import { readMarkdown, writeMarkdown } from '../utils/fileIO.js';\n",
    "import { getSummaryPrompt } from '../prompts/summarizePrompt.js';\n",
    "import { callOpenAI } from '../utils/ai.js';"
   ]
  },
  {
   "cell_type": "code",
   "execution_count": null,
   "id": "4b63505a",
   "metadata": {},
   "outputs": [],
   "source": [
    "// Read the Markdown file\n",
    "const content = await readMarkdown('../md-files/example.md');\n",
    "console.log('Original Content:', content);"
   ]
  },
  {
   "cell_type": "code",
   "execution_count": null,
   "id": "eca0daac",
   "metadata": {},
   "outputs": [],
   "source": [
    "// Generate a summary using AI\n",
    "const prompt = getSummaryPrompt(content);\n",
    "const summary = await callOpenAI(prompt);\n",
    "console.log('Summary:', summary);"
   ]
  },
  {
   "cell_type": "code",
   "execution_count": null,
   "id": "446eadaa",
   "metadata": {},
   "outputs": [],
   "source": [
    "// Write the summary to a new Markdown file\n",
    "await writeMarkdown('../md-files/example_summary.md', `# Summary\\n\\n${summary}`);\n",
    "console.log('Summary written to example_summary.md');"
   ]
  },
  {
   "cell_type": "code",
   "execution_count": null,
   "id": "c999be44-9161-49ce-9df0-7eb53af65bc8",
   "metadata": {},
   "outputs": [],
   "source": []
  }
 ],
 "metadata": {
  "kernelspec": {
   "display_name": "JavaScript (Node.js)",
   "language": "javascript",
   "name": "javascript"
  },
  "language_info": {
   "file_extension": ".js",
   "mimetype": "application/javascript",
   "name": "javascript",
   "version": "ES2021"
  }
 },
 "nbformat": 4,
 "nbformat_minor": 5
}
