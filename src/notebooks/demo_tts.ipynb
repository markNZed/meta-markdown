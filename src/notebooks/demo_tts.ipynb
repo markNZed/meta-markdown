{
  "cells": [
    {
      "cell_type": "markdown",
      "id": "intro",
      "metadata": {},
      "source": [
        "# TTS (Text-to-Speech) Demonstration\n",
        "\n",
        "This notebook demonstrates how to use the `tts.ts` API module to convert text into speech and save the resulting audio file."
      ]
    },
    {
      "cell_type": "code",
      "execution_count": 2,
      "id": "import-tts",
      "metadata": {},
      "outputs": [
        {
          "name": "stdout",
          "output_type": "stream",
          "text": [
            "INFO Cache directory is ready at /workspace/tts-cache - requestId: system\n"
          ]
        }
      ],
      "source": [
        "// Import the TTS functions from tts.ts\n",
        "import { createAudioFromText } from '@/utils/tts.ts';"
      ]
    },
    {
      "cell_type": "markdown",
      "id": "batch-processing",
      "metadata": {},
      "source": [
        "## Processing Text"
      ]
    },
    {
      "cell_type": "code",
      "execution_count": 3,
      "id": "batch-convert",
      "metadata": {},
      "outputs": [
        {
          "name": "stdout",
          "output_type": "stream",
          "text": [
            "INFO Processing TTS request. - requestId: 1\n",
            "INFO Text split into 1 chunk(s). - requestId: 1\n",
            "INFO Cache hit for chunk 1/1 with hash c46cd0e8ff9ee57626f82039098f354c7912e7ca9e612005c18e8f81168a3161. - requestId: 1\n",
            "DEBUG Starting audio merging process - requestId: 1\n",
            "INFO Audio merged successfully into /workspace/tts-cache/1_merged.mp3 - requestId: 1\n"
          ]
        }
      ],
      "source": [
        "// Define an array of texts to convert\n",
        "const text = 'This is the first text for TTS conversion.';\n",
        "const currentRequestId = \"1\";\n",
        "const voice = 'shimmer'; // Replace with desired voice model if applicable\n",
        "const mp3File = await createAudioFromText(text, currentRequestId, voice);\n"
      ]
    },
    {
      "cell_type": "code",
      "execution_count": 4,
      "id": "ecbce985",
      "metadata": {},
      "outputs": [],
      "source": [
        "// Importing the necessary modules\n",
        "import { encode } from \"https://deno.land/std@0.203.0/encoding/base64.ts\";\n",
        "\n",
        "// Function to convert MP3 file to base64\n",
        "async function mp3ToBase64(mp3FilePath: string): Promise<string> {\n",
        "  const mp3Data = await Deno.readFile(mp3FilePath); // Read the file as Uint8Array\n",
        "  return encode(mp3Data);  // Convert the file data to base64\n",
        "}\n",
        "\n",
        "// Specify the MP3 file path (adjust according to your file location)\n",
        "const base64Mp3 = await mp3ToBase64(mp3File);"
      ]
    },
    {
      "cell_type": "code",
      "execution_count": 5,
      "id": "65008871",
      "metadata": {},
      "outputs": [
        {
          "data": {
            "text/html": [
              "\n",
              "  <audio controls>\n",
              "    <source src=\"data:audio/mp3;base64,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\" type=\"audio/mp3\">\n",
              "    Your browser does not support the audio element.\n",
              "  </audio>\n"
            ]
          },
          "execution_count": 5,
          "metadata": {},
          "output_type": "execute_result"
        }
      ],
      "source": [
        "Deno.jupyter.html`\n",
        "  <audio controls>\n",
        "    <source src=\"data:audio/mp3;base64,${base64Mp3}\" type=\"audio/mp3\">\n",
        "    Your browser does not support the audio element.\n",
        "  </audio>\n",
        "`;\n"
      ]
    },
    {
      "cell_type": "code",
      "execution_count": null,
      "id": "8ff77e71",
      "metadata": {},
      "outputs": [],
      "source": []
    },
    {
      "cell_type": "markdown",
      "id": "conclusion",
      "metadata": {},
      "source": [
        "## Conclusion\n",
        "\n",
        "You've successfully demonstrated how to use the `tts.ts` API module to convert text into speech and handle audio files within a Deno-based TypeScript project."
      ]
    }
  ],
  "metadata": {
    "kernelspec": {
      "display_name": "Deno",
      "language": "typescript",
      "name": "deno"
    },
    "language_info": {
      "codemirror_mode": "typescript",
      "file_extension": ".ts",
      "mimetype": "text/x.typescript",
      "name": "typescript",
      "nbconvert_exporter": "script",
      "pygments_lexer": "typescript",
      "version": "5.6.2"
    }
  },
  "nbformat": 4,
  "nbformat_minor": 5
}
