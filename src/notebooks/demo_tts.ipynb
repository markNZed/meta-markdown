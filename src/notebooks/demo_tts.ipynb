{
  "cells": [
    {
      "cell_type": "markdown",
      "id": "intro",
      "metadata": {},
      "source": [
        "# TTS (Text-to-Speech) Demonstration\n",
        "\n",
        "This notebook demonstrates how to use the `tts.ts` API module to convert text into speech and save the resulting audio file."
      ]
    },
    {
      "cell_type": "code",
      "execution_count": 1,
      "id": "e672fb60",
      "metadata": {},
      "outputs": [
        {
          "name": "stdout",
          "output_type": "stream",
          "text": [
            "Deno 'gen' cache cleared: /deno-dir/gen/file\n"
          ]
        }
      ],
      "source": [
        "import { clearDenoGenCache } from '../utils/cacheBust.ts';\n",
        "await clearDenoGenCache();"
      ]
    },
    {
      "cell_type": "code",
      "execution_count": 2,
      "id": "import-tts",
      "metadata": {},
      "outputs": [
        {
          "name": "stdout",
          "output_type": "stream",
          "text": [
            "INFO Cache directory is ready at /workspace/tts-cache - requestId: system\n"
          ]
        }
      ],
      "source": [
        "// Import the TTS functions from tts.ts\n",
        "import { createAudioFromText } from '../utils/tts.ts';"
      ]
    },
    {
      "cell_type": "markdown",
      "id": "batch-processing",
      "metadata": {},
      "source": [
        "## Processing Text"
      ]
    },
    {
      "cell_type": "code",
      "execution_count": 11,
      "id": "batch-convert",
      "metadata": {},
      "outputs": [
        {
          "name": "stdout",
          "output_type": "stream",
          "text": [
            "INFO Processing TTS request. - requestId: 1\n",
            "INFO Text split into 1 chunk(s). - requestId: 1\n",
            "INFO Cache hit for chunk 1/1 with hash 56b00e98da47269138ecdd4443958f7db43a8fe5271030b06e239c559b1dcc4c. - requestId: 1\n",
            "DEBUG Starting audio merging process - requestId: 1\n",
            "INFO Audio merged successfully into /workspace/tts-cache/1_merged.mp3 - requestId: 1\n"
          ]
        }
      ],
      "source": [
        "// Define an array of texts to convert\n",
        "const text = 'This is the first text for TTS conversion.';\n",
        "const currentRequestId = \"1\";\n",
        "const voice = 'shimmer'; // Replace with desired voice model if applicable\n",
        "const mp3File = await createAudioFromText(text, currentRequestId, voice);\n"
      ]
    },
    {
      "cell_type": "code",
      "execution_count": 12,
      "id": "ecbce985",
      "metadata": {},
      "outputs": [],
      "source": [
        "// Importing the necessary modules\n",
        "import { encode } from \"https://deno.land/std@0.203.0/encoding/base64.ts\";\n",
        "\n",
        "// Function to convert MP3 file to base64\n",
        "async function mp3ToBase64(mp3FilePath: string): Promise<string> {\n",
        "  const mp3Data = await Deno.readFile(mp3FilePath); // Read the file as Uint8Array\n",
        "  return encode(mp3Data);  // Convert the file data to base64\n",
        "}\n",
        "\n",
        "// Specify the MP3 file path (adjust according to your file location)\n",
        "const base64Mp3 = await mp3ToBase64(mp3File);"
      ]
    },
    {
      "cell_type": "code",
      "execution_count": 13,
      "id": "65008871",
      "metadata": {},
      "outputs": [
        {
          "data": {
            "text/html": [
              "\n",
              "  <audio controls>\n",
              "    <source src=\"data:audio/mp3;base64,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\" type=\"audio/mp3\">\n",
              "    Your browser does not support the audio element.\n",
              "  </audio>\n"
            ]
          },
          "execution_count": 13,
          "metadata": {},
          "output_type": "execute_result"
        }
      ],
      "source": [
        "Deno.jupyter.html`\n",
        "  <audio controls>\n",
        "    <source src=\"data:audio/mp3;base64,${base64Mp3}\" type=\"audio/mp3\">\n",
        "    Your browser does not support the audio element.\n",
        "  </audio>\n",
        "`;\n"
      ]
    },
    {
      "cell_type": "code",
      "execution_count": null,
      "id": "8ff77e71",
      "metadata": {},
      "outputs": [],
      "source": []
    },
    {
      "cell_type": "markdown",
      "id": "conclusion",
      "metadata": {},
      "source": [
        "## Conclusion\n",
        "\n",
        "You've successfully demonstrated how to use the `tts.ts` API module to convert text into speech and handle audio files within a Deno-based TypeScript project."
      ]
    }
  ],
  "metadata": {
    "kernelspec": {
      "display_name": "Deno",
      "language": "typescript",
      "name": "deno"
    },
    "language_info": {
      "codemirror_mode": "typescript",
      "file_extension": ".ts",
      "mimetype": "text/x.typescript",
      "name": "typescript",
      "nbconvert_exporter": "script",
      "pygments_lexer": "typescript",
      "version": "5.6.2"
    }
  },
  "nbformat": 4,
  "nbformat_minor": 5
}
